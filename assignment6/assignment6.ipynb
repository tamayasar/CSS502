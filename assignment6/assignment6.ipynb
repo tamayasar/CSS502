{
 "cells": [
  {
   "cell_type": "code",
   "execution_count": 1,
   "id": "2c211aac-ba5c-4022-abf5-38cadb34d74a",
   "metadata": {},
   "outputs": [],
   "source": [
    "import pandas as pd\n",
    "from sklearn.model_selection import train_test_split\n",
    "from sklearn.model_selection import cross_val_score, cross_validate\n",
    "from sklearn import tree\n",
    "from sklearn.metrics import classification_report\n",
    "from sklearn.tree import plot_tree\n",
    "from sklearn.ensemble import RandomForestClassifier\n",
    "from sklearn.linear_model import LinearRegression\n",
    "import statsmodels.api as sm\n",
    "import seaborn as sns\n",
    "from scipy import stats\n",
    "import matplotlib.pyplot as plt\n",
    "import numpy as np"
   ]
  },
  {
   "cell_type": "code",
   "execution_count": 2,
   "id": "e6bb1cea-fb51-42ea-b008-3385fd4b5927",
   "metadata": {},
   "outputs": [],
   "source": [
    "df = pd.read_csv(\"adult-income.csv\")"
   ]
  },
  {
   "cell_type": "code",
   "execution_count": 3,
   "id": "3f070288-ccce-48b0-8aec-e28ec52814b5",
   "metadata": {},
   "outputs": [
    {
     "data": {
      "text/html": [
       "<div>\n",
       "<style scoped>\n",
       "    .dataframe tbody tr th:only-of-type {\n",
       "        vertical-align: middle;\n",
       "    }\n",
       "\n",
       "    .dataframe tbody tr th {\n",
       "        vertical-align: top;\n",
       "    }\n",
       "\n",
       "    .dataframe thead th {\n",
       "        text-align: right;\n",
       "    }\n",
       "</style>\n",
       "<table border=\"1\" class=\"dataframe\">\n",
       "  <thead>\n",
       "    <tr style=\"text-align: right;\">\n",
       "      <th></th>\n",
       "      <th>age</th>\n",
       "      <th>workclass</th>\n",
       "      <th>fnlwgt</th>\n",
       "      <th>education</th>\n",
       "      <th>educational-num</th>\n",
       "      <th>marital-status</th>\n",
       "      <th>occupation</th>\n",
       "      <th>relationship</th>\n",
       "      <th>race</th>\n",
       "      <th>gender</th>\n",
       "      <th>capital-gain</th>\n",
       "      <th>capital-loss</th>\n",
       "      <th>hours-per-week</th>\n",
       "      <th>native-country</th>\n",
       "      <th>income</th>\n",
       "    </tr>\n",
       "  </thead>\n",
       "  <tbody>\n",
       "    <tr>\n",
       "      <th>0</th>\n",
       "      <td>25</td>\n",
       "      <td>Private</td>\n",
       "      <td>226802</td>\n",
       "      <td>11th</td>\n",
       "      <td>7</td>\n",
       "      <td>Never-married</td>\n",
       "      <td>Machine-op-inspct</td>\n",
       "      <td>Own-child</td>\n",
       "      <td>Black</td>\n",
       "      <td>Male</td>\n",
       "      <td>0</td>\n",
       "      <td>0</td>\n",
       "      <td>40</td>\n",
       "      <td>United-States</td>\n",
       "      <td>&lt;=50K</td>\n",
       "    </tr>\n",
       "    <tr>\n",
       "      <th>1</th>\n",
       "      <td>38</td>\n",
       "      <td>Private</td>\n",
       "      <td>89814</td>\n",
       "      <td>HS-grad</td>\n",
       "      <td>9</td>\n",
       "      <td>Married-civ-spouse</td>\n",
       "      <td>Farming-fishing</td>\n",
       "      <td>Husband</td>\n",
       "      <td>White</td>\n",
       "      <td>Male</td>\n",
       "      <td>0</td>\n",
       "      <td>0</td>\n",
       "      <td>50</td>\n",
       "      <td>United-States</td>\n",
       "      <td>&lt;=50K</td>\n",
       "    </tr>\n",
       "    <tr>\n",
       "      <th>2</th>\n",
       "      <td>28</td>\n",
       "      <td>Local-gov</td>\n",
       "      <td>336951</td>\n",
       "      <td>Assoc-acdm</td>\n",
       "      <td>12</td>\n",
       "      <td>Married-civ-spouse</td>\n",
       "      <td>Protective-serv</td>\n",
       "      <td>Husband</td>\n",
       "      <td>White</td>\n",
       "      <td>Male</td>\n",
       "      <td>0</td>\n",
       "      <td>0</td>\n",
       "      <td>40</td>\n",
       "      <td>United-States</td>\n",
       "      <td>&gt;50K</td>\n",
       "    </tr>\n",
       "    <tr>\n",
       "      <th>3</th>\n",
       "      <td>44</td>\n",
       "      <td>Private</td>\n",
       "      <td>160323</td>\n",
       "      <td>Some-college</td>\n",
       "      <td>10</td>\n",
       "      <td>Married-civ-spouse</td>\n",
       "      <td>Machine-op-inspct</td>\n",
       "      <td>Husband</td>\n",
       "      <td>Black</td>\n",
       "      <td>Male</td>\n",
       "      <td>7688</td>\n",
       "      <td>0</td>\n",
       "      <td>40</td>\n",
       "      <td>United-States</td>\n",
       "      <td>&gt;50K</td>\n",
       "    </tr>\n",
       "    <tr>\n",
       "      <th>4</th>\n",
       "      <td>18</td>\n",
       "      <td>?</td>\n",
       "      <td>103497</td>\n",
       "      <td>Some-college</td>\n",
       "      <td>10</td>\n",
       "      <td>Never-married</td>\n",
       "      <td>?</td>\n",
       "      <td>Own-child</td>\n",
       "      <td>White</td>\n",
       "      <td>Female</td>\n",
       "      <td>0</td>\n",
       "      <td>0</td>\n",
       "      <td>30</td>\n",
       "      <td>United-States</td>\n",
       "      <td>&lt;=50K</td>\n",
       "    </tr>\n",
       "    <tr>\n",
       "      <th>...</th>\n",
       "      <td>...</td>\n",
       "      <td>...</td>\n",
       "      <td>...</td>\n",
       "      <td>...</td>\n",
       "      <td>...</td>\n",
       "      <td>...</td>\n",
       "      <td>...</td>\n",
       "      <td>...</td>\n",
       "      <td>...</td>\n",
       "      <td>...</td>\n",
       "      <td>...</td>\n",
       "      <td>...</td>\n",
       "      <td>...</td>\n",
       "      <td>...</td>\n",
       "      <td>...</td>\n",
       "    </tr>\n",
       "    <tr>\n",
       "      <th>48837</th>\n",
       "      <td>27</td>\n",
       "      <td>Private</td>\n",
       "      <td>257302</td>\n",
       "      <td>Assoc-acdm</td>\n",
       "      <td>12</td>\n",
       "      <td>Married-civ-spouse</td>\n",
       "      <td>Tech-support</td>\n",
       "      <td>Wife</td>\n",
       "      <td>White</td>\n",
       "      <td>Female</td>\n",
       "      <td>0</td>\n",
       "      <td>0</td>\n",
       "      <td>38</td>\n",
       "      <td>United-States</td>\n",
       "      <td>&lt;=50K</td>\n",
       "    </tr>\n",
       "    <tr>\n",
       "      <th>48838</th>\n",
       "      <td>40</td>\n",
       "      <td>Private</td>\n",
       "      <td>154374</td>\n",
       "      <td>HS-grad</td>\n",
       "      <td>9</td>\n",
       "      <td>Married-civ-spouse</td>\n",
       "      <td>Machine-op-inspct</td>\n",
       "      <td>Husband</td>\n",
       "      <td>White</td>\n",
       "      <td>Male</td>\n",
       "      <td>0</td>\n",
       "      <td>0</td>\n",
       "      <td>40</td>\n",
       "      <td>United-States</td>\n",
       "      <td>&gt;50K</td>\n",
       "    </tr>\n",
       "    <tr>\n",
       "      <th>48839</th>\n",
       "      <td>58</td>\n",
       "      <td>Private</td>\n",
       "      <td>151910</td>\n",
       "      <td>HS-grad</td>\n",
       "      <td>9</td>\n",
       "      <td>Widowed</td>\n",
       "      <td>Adm-clerical</td>\n",
       "      <td>Unmarried</td>\n",
       "      <td>White</td>\n",
       "      <td>Female</td>\n",
       "      <td>0</td>\n",
       "      <td>0</td>\n",
       "      <td>40</td>\n",
       "      <td>United-States</td>\n",
       "      <td>&lt;=50K</td>\n",
       "    </tr>\n",
       "    <tr>\n",
       "      <th>48840</th>\n",
       "      <td>22</td>\n",
       "      <td>Private</td>\n",
       "      <td>201490</td>\n",
       "      <td>HS-grad</td>\n",
       "      <td>9</td>\n",
       "      <td>Never-married</td>\n",
       "      <td>Adm-clerical</td>\n",
       "      <td>Own-child</td>\n",
       "      <td>White</td>\n",
       "      <td>Male</td>\n",
       "      <td>0</td>\n",
       "      <td>0</td>\n",
       "      <td>20</td>\n",
       "      <td>United-States</td>\n",
       "      <td>&lt;=50K</td>\n",
       "    </tr>\n",
       "    <tr>\n",
       "      <th>48841</th>\n",
       "      <td>52</td>\n",
       "      <td>Self-emp-inc</td>\n",
       "      <td>287927</td>\n",
       "      <td>HS-grad</td>\n",
       "      <td>9</td>\n",
       "      <td>Married-civ-spouse</td>\n",
       "      <td>Exec-managerial</td>\n",
       "      <td>Wife</td>\n",
       "      <td>White</td>\n",
       "      <td>Female</td>\n",
       "      <td>15024</td>\n",
       "      <td>0</td>\n",
       "      <td>40</td>\n",
       "      <td>United-States</td>\n",
       "      <td>&gt;50K</td>\n",
       "    </tr>\n",
       "  </tbody>\n",
       "</table>\n",
       "<p>48842 rows × 15 columns</p>\n",
       "</div>"
      ],
      "text/plain": [
       "       age     workclass  fnlwgt     education  educational-num  \\\n",
       "0       25       Private  226802          11th                7   \n",
       "1       38       Private   89814       HS-grad                9   \n",
       "2       28     Local-gov  336951    Assoc-acdm               12   \n",
       "3       44       Private  160323  Some-college               10   \n",
       "4       18             ?  103497  Some-college               10   \n",
       "...    ...           ...     ...           ...              ...   \n",
       "48837   27       Private  257302    Assoc-acdm               12   \n",
       "48838   40       Private  154374       HS-grad                9   \n",
       "48839   58       Private  151910       HS-grad                9   \n",
       "48840   22       Private  201490       HS-grad                9   \n",
       "48841   52  Self-emp-inc  287927       HS-grad                9   \n",
       "\n",
       "           marital-status         occupation relationship   race  gender  \\\n",
       "0           Never-married  Machine-op-inspct    Own-child  Black    Male   \n",
       "1      Married-civ-spouse    Farming-fishing      Husband  White    Male   \n",
       "2      Married-civ-spouse    Protective-serv      Husband  White    Male   \n",
       "3      Married-civ-spouse  Machine-op-inspct      Husband  Black    Male   \n",
       "4           Never-married                  ?    Own-child  White  Female   \n",
       "...                   ...                ...          ...    ...     ...   \n",
       "48837  Married-civ-spouse       Tech-support         Wife  White  Female   \n",
       "48838  Married-civ-spouse  Machine-op-inspct      Husband  White    Male   \n",
       "48839             Widowed       Adm-clerical    Unmarried  White  Female   \n",
       "48840       Never-married       Adm-clerical    Own-child  White    Male   \n",
       "48841  Married-civ-spouse    Exec-managerial         Wife  White  Female   \n",
       "\n",
       "       capital-gain  capital-loss  hours-per-week native-country income  \n",
       "0                 0             0              40  United-States  <=50K  \n",
       "1                 0             0              50  United-States  <=50K  \n",
       "2                 0             0              40  United-States   >50K  \n",
       "3              7688             0              40  United-States   >50K  \n",
       "4                 0             0              30  United-States  <=50K  \n",
       "...             ...           ...             ...            ...    ...  \n",
       "48837             0             0              38  United-States  <=50K  \n",
       "48838             0             0              40  United-States   >50K  \n",
       "48839             0             0              40  United-States  <=50K  \n",
       "48840             0             0              20  United-States  <=50K  \n",
       "48841         15024             0              40  United-States   >50K  \n",
       "\n",
       "[48842 rows x 15 columns]"
      ]
     },
     "execution_count": 3,
     "metadata": {},
     "output_type": "execute_result"
    }
   ],
   "source": [
    "df"
   ]
  },
  {
   "cell_type": "markdown",
   "id": "c7ffbadc-bf36-42a4-bacb-a61553293c69",
   "metadata": {},
   "source": [
    "## Examining the columns and their types."
   ]
  },
  {
   "cell_type": "code",
   "execution_count": 4,
   "id": "36e33ca4-43d5-4d30-ad8b-b5441bbbef58",
   "metadata": {},
   "outputs": [
    {
     "data": {
      "text/plain": [
       "0        25\n",
       "1        38\n",
       "2        28\n",
       "3        44\n",
       "4        18\n",
       "         ..\n",
       "48837    27\n",
       "48838    40\n",
       "48839    58\n",
       "48840    22\n",
       "48841    52\n",
       "Name: age, Length: 48842, dtype: int64"
      ]
     },
     "execution_count": 4,
     "metadata": {},
     "output_type": "execute_result"
    }
   ],
   "source": [
    "df[\"age\"]"
   ]
  },
  {
   "cell_type": "code",
   "execution_count": 5,
   "id": "6c99b056-523f-4ca0-8cca-2f82100c2db7",
   "metadata": {},
   "outputs": [
    {
     "data": {
      "text/plain": [
       "0        Machine-op-inspct\n",
       "1          Farming-fishing\n",
       "2          Protective-serv\n",
       "3        Machine-op-inspct\n",
       "4                        ?\n",
       "               ...        \n",
       "48837         Tech-support\n",
       "48838    Machine-op-inspct\n",
       "48839         Adm-clerical\n",
       "48840         Adm-clerical\n",
       "48841      Exec-managerial\n",
       "Name: occupation, Length: 48842, dtype: object"
      ]
     },
     "execution_count": 5,
     "metadata": {},
     "output_type": "execute_result"
    }
   ],
   "source": [
    "df[\"occupation\"]"
   ]
  },
  {
   "cell_type": "code",
   "execution_count": 6,
   "id": "075b6879-512a-401d-82f7-358b3515ec68",
   "metadata": {},
   "outputs": [
    {
     "data": {
      "text/plain": [
       "array(['Machine-op-inspct', 'Farming-fishing', 'Protective-serv', '?',\n",
       "       'Other-service', 'Prof-specialty', 'Craft-repair', 'Adm-clerical',\n",
       "       'Exec-managerial', 'Tech-support', 'Sales', 'Priv-house-serv',\n",
       "       'Transport-moving', 'Handlers-cleaners', 'Armed-Forces'],\n",
       "      dtype=object)"
      ]
     },
     "execution_count": 6,
     "metadata": {},
     "output_type": "execute_result"
    }
   ],
   "source": [
    "df[\"occupation\"].unique()"
   ]
  },
  {
   "cell_type": "code",
   "execution_count": 7,
   "id": "a1fa66fe-904b-4760-b742-1bc4422a2c31",
   "metadata": {},
   "outputs": [
    {
     "data": {
      "text/plain": [
       "0        40\n",
       "1        50\n",
       "2        40\n",
       "3        40\n",
       "4        30\n",
       "         ..\n",
       "48837    38\n",
       "48838    40\n",
       "48839    40\n",
       "48840    20\n",
       "48841    40\n",
       "Name: hours-per-week, Length: 48842, dtype: int64"
      ]
     },
     "execution_count": 7,
     "metadata": {},
     "output_type": "execute_result"
    }
   ],
   "source": [
    "df[\"hours-per-week\"]"
   ]
  },
  {
   "cell_type": "code",
   "execution_count": 8,
   "id": "0ffe3e3d-8168-4559-95f8-3ea2064fa79b",
   "metadata": {},
   "outputs": [
    {
     "data": {
      "text/plain": [
       "0                11th\n",
       "1             HS-grad\n",
       "2          Assoc-acdm\n",
       "3        Some-college\n",
       "4        Some-college\n",
       "             ...     \n",
       "48837      Assoc-acdm\n",
       "48838         HS-grad\n",
       "48839         HS-grad\n",
       "48840         HS-grad\n",
       "48841         HS-grad\n",
       "Name: education, Length: 48842, dtype: object"
      ]
     },
     "execution_count": 8,
     "metadata": {},
     "output_type": "execute_result"
    }
   ],
   "source": [
    "df[\"education\"]"
   ]
  },
  {
   "cell_type": "code",
   "execution_count": 9,
   "id": "c65a735c-ac49-4a6f-a340-57b35fdf4371",
   "metadata": {},
   "outputs": [
    {
     "data": {
      "text/plain": [
       "array(['11th', 'HS-grad', 'Assoc-acdm', 'Some-college', '10th',\n",
       "       'Prof-school', '7th-8th', 'Bachelors', 'Masters', 'Doctorate',\n",
       "       '5th-6th', 'Assoc-voc', '9th', '12th', '1st-4th', 'Preschool'],\n",
       "      dtype=object)"
      ]
     },
     "execution_count": 9,
     "metadata": {},
     "output_type": "execute_result"
    }
   ],
   "source": [
    "df[\"education\"].unique()"
   ]
  },
  {
   "cell_type": "code",
   "execution_count": 10,
   "id": "047febcf-e42a-4f94-b3a9-31dd4896e01b",
   "metadata": {},
   "outputs": [
    {
     "data": {
      "text/plain": [
       "0         7\n",
       "1         9\n",
       "2        12\n",
       "3        10\n",
       "4        10\n",
       "         ..\n",
       "48837    12\n",
       "48838     9\n",
       "48839     9\n",
       "48840     9\n",
       "48841     9\n",
       "Name: educational-num, Length: 48842, dtype: int64"
      ]
     },
     "execution_count": 10,
     "metadata": {},
     "output_type": "execute_result"
    }
   ],
   "source": [
    "df[\"educational-num\"]"
   ]
  },
  {
   "cell_type": "code",
   "execution_count": 11,
   "id": "42675d97-0518-4a01-94cd-b8733db7ac70",
   "metadata": {},
   "outputs": [
    {
     "data": {
      "text/plain": [
       "0        <=50K\n",
       "1        <=50K\n",
       "2         >50K\n",
       "3         >50K\n",
       "4        <=50K\n",
       "         ...  \n",
       "48837    <=50K\n",
       "48838     >50K\n",
       "48839    <=50K\n",
       "48840    <=50K\n",
       "48841     >50K\n",
       "Name: income, Length: 48842, dtype: object"
      ]
     },
     "execution_count": 11,
     "metadata": {},
     "output_type": "execute_result"
    }
   ],
   "source": [
    "df[\"income\"]"
   ]
  },
  {
   "cell_type": "code",
   "execution_count": 12,
   "id": "b220b8ef-096b-4862-8740-7265a070e6d4",
   "metadata": {},
   "outputs": [],
   "source": [
    "df[\"income\"] = df[\"income\"].apply(lambda x: 1 if x == \"<=50K\" else 0)"
   ]
  },
  {
   "cell_type": "code",
   "execution_count": 13,
   "id": "22c9f3d2-5a84-48d8-a8bf-97b724f7c7d0",
   "metadata": {},
   "outputs": [
    {
     "data": {
      "text/plain": [
       "0        1\n",
       "1        1\n",
       "2        0\n",
       "3        0\n",
       "4        1\n",
       "        ..\n",
       "48837    1\n",
       "48838    0\n",
       "48839    1\n",
       "48840    1\n",
       "48841    0\n",
       "Name: income, Length: 48842, dtype: int64"
      ]
     },
     "execution_count": 13,
     "metadata": {},
     "output_type": "execute_result"
    }
   ],
   "source": [
    "df[\"income\"]"
   ]
  },
  {
   "cell_type": "markdown",
   "id": "b548ef65-d405-4631-9d99-3f8c305b5058",
   "metadata": {},
   "source": [
    "### Splitting the whole data into train and test data."
   ]
  },
  {
   "cell_type": "code",
   "execution_count": 14,
   "id": "fc04b5e7-5883-4522-ba76-bf6f1d17ab27",
   "metadata": {},
   "outputs": [],
   "source": [
    "train, test = train_test_split(df, test_size=0.2)"
   ]
  },
  {
   "cell_type": "code",
   "execution_count": 15,
   "id": "4aeddd9d-d984-4195-b739-59248bf25c7f",
   "metadata": {},
   "outputs": [
    {
     "data": {
      "text/html": [
       "<div>\n",
       "<style scoped>\n",
       "    .dataframe tbody tr th:only-of-type {\n",
       "        vertical-align: middle;\n",
       "    }\n",
       "\n",
       "    .dataframe tbody tr th {\n",
       "        vertical-align: top;\n",
       "    }\n",
       "\n",
       "    .dataframe thead th {\n",
       "        text-align: right;\n",
       "    }\n",
       "</style>\n",
       "<table border=\"1\" class=\"dataframe\">\n",
       "  <thead>\n",
       "    <tr style=\"text-align: right;\">\n",
       "      <th></th>\n",
       "      <th>age</th>\n",
       "      <th>workclass</th>\n",
       "      <th>fnlwgt</th>\n",
       "      <th>education</th>\n",
       "      <th>educational-num</th>\n",
       "      <th>marital-status</th>\n",
       "      <th>occupation</th>\n",
       "      <th>relationship</th>\n",
       "      <th>race</th>\n",
       "      <th>gender</th>\n",
       "      <th>capital-gain</th>\n",
       "      <th>capital-loss</th>\n",
       "      <th>hours-per-week</th>\n",
       "      <th>native-country</th>\n",
       "      <th>income</th>\n",
       "    </tr>\n",
       "  </thead>\n",
       "  <tbody>\n",
       "    <tr>\n",
       "      <th>2772</th>\n",
       "      <td>41</td>\n",
       "      <td>Self-emp-not-inc</td>\n",
       "      <td>171003</td>\n",
       "      <td>7th-8th</td>\n",
       "      <td>4</td>\n",
       "      <td>Never-married</td>\n",
       "      <td>Other-service</td>\n",
       "      <td>Unmarried</td>\n",
       "      <td>White</td>\n",
       "      <td>Female</td>\n",
       "      <td>0</td>\n",
       "      <td>0</td>\n",
       "      <td>30</td>\n",
       "      <td>United-States</td>\n",
       "      <td>1</td>\n",
       "    </tr>\n",
       "    <tr>\n",
       "      <th>12386</th>\n",
       "      <td>41</td>\n",
       "      <td>Private</td>\n",
       "      <td>56651</td>\n",
       "      <td>12th</td>\n",
       "      <td>8</td>\n",
       "      <td>Married-civ-spouse</td>\n",
       "      <td>Craft-repair</td>\n",
       "      <td>Husband</td>\n",
       "      <td>White</td>\n",
       "      <td>Male</td>\n",
       "      <td>0</td>\n",
       "      <td>0</td>\n",
       "      <td>40</td>\n",
       "      <td>United-States</td>\n",
       "      <td>1</td>\n",
       "    </tr>\n",
       "    <tr>\n",
       "      <th>46891</th>\n",
       "      <td>51</td>\n",
       "      <td>Self-emp-not-inc</td>\n",
       "      <td>24790</td>\n",
       "      <td>Some-college</td>\n",
       "      <td>10</td>\n",
       "      <td>Married-civ-spouse</td>\n",
       "      <td>Exec-managerial</td>\n",
       "      <td>Husband</td>\n",
       "      <td>White</td>\n",
       "      <td>Male</td>\n",
       "      <td>0</td>\n",
       "      <td>0</td>\n",
       "      <td>99</td>\n",
       "      <td>United-States</td>\n",
       "      <td>0</td>\n",
       "    </tr>\n",
       "    <tr>\n",
       "      <th>47964</th>\n",
       "      <td>18</td>\n",
       "      <td>Private</td>\n",
       "      <td>240543</td>\n",
       "      <td>11th</td>\n",
       "      <td>7</td>\n",
       "      <td>Never-married</td>\n",
       "      <td>Other-service</td>\n",
       "      <td>Own-child</td>\n",
       "      <td>White</td>\n",
       "      <td>Female</td>\n",
       "      <td>0</td>\n",
       "      <td>0</td>\n",
       "      <td>20</td>\n",
       "      <td>United-States</td>\n",
       "      <td>1</td>\n",
       "    </tr>\n",
       "    <tr>\n",
       "      <th>27542</th>\n",
       "      <td>78</td>\n",
       "      <td>?</td>\n",
       "      <td>83511</td>\n",
       "      <td>7th-8th</td>\n",
       "      <td>4</td>\n",
       "      <td>Married-civ-spouse</td>\n",
       "      <td>?</td>\n",
       "      <td>Husband</td>\n",
       "      <td>White</td>\n",
       "      <td>Male</td>\n",
       "      <td>0</td>\n",
       "      <td>0</td>\n",
       "      <td>40</td>\n",
       "      <td>Portugal</td>\n",
       "      <td>1</td>\n",
       "    </tr>\n",
       "    <tr>\n",
       "      <th>...</th>\n",
       "      <td>...</td>\n",
       "      <td>...</td>\n",
       "      <td>...</td>\n",
       "      <td>...</td>\n",
       "      <td>...</td>\n",
       "      <td>...</td>\n",
       "      <td>...</td>\n",
       "      <td>...</td>\n",
       "      <td>...</td>\n",
       "      <td>...</td>\n",
       "      <td>...</td>\n",
       "      <td>...</td>\n",
       "      <td>...</td>\n",
       "      <td>...</td>\n",
       "      <td>...</td>\n",
       "    </tr>\n",
       "    <tr>\n",
       "      <th>14482</th>\n",
       "      <td>21</td>\n",
       "      <td>State-gov</td>\n",
       "      <td>254620</td>\n",
       "      <td>Some-college</td>\n",
       "      <td>10</td>\n",
       "      <td>Never-married</td>\n",
       "      <td>Prof-specialty</td>\n",
       "      <td>Own-child</td>\n",
       "      <td>White</td>\n",
       "      <td>Male</td>\n",
       "      <td>0</td>\n",
       "      <td>0</td>\n",
       "      <td>16</td>\n",
       "      <td>United-States</td>\n",
       "      <td>1</td>\n",
       "    </tr>\n",
       "    <tr>\n",
       "      <th>34704</th>\n",
       "      <td>43</td>\n",
       "      <td>Private</td>\n",
       "      <td>90582</td>\n",
       "      <td>HS-grad</td>\n",
       "      <td>9</td>\n",
       "      <td>Married-civ-spouse</td>\n",
       "      <td>Transport-moving</td>\n",
       "      <td>Husband</td>\n",
       "      <td>White</td>\n",
       "      <td>Male</td>\n",
       "      <td>0</td>\n",
       "      <td>0</td>\n",
       "      <td>40</td>\n",
       "      <td>United-States</td>\n",
       "      <td>1</td>\n",
       "    </tr>\n",
       "    <tr>\n",
       "      <th>43264</th>\n",
       "      <td>36</td>\n",
       "      <td>Self-emp-not-inc</td>\n",
       "      <td>138940</td>\n",
       "      <td>Bachelors</td>\n",
       "      <td>13</td>\n",
       "      <td>Married-civ-spouse</td>\n",
       "      <td>Exec-managerial</td>\n",
       "      <td>Husband</td>\n",
       "      <td>White</td>\n",
       "      <td>Male</td>\n",
       "      <td>4386</td>\n",
       "      <td>0</td>\n",
       "      <td>50</td>\n",
       "      <td>United-States</td>\n",
       "      <td>0</td>\n",
       "    </tr>\n",
       "    <tr>\n",
       "      <th>34119</th>\n",
       "      <td>23</td>\n",
       "      <td>Private</td>\n",
       "      <td>393248</td>\n",
       "      <td>Some-college</td>\n",
       "      <td>10</td>\n",
       "      <td>Never-married</td>\n",
       "      <td>Adm-clerical</td>\n",
       "      <td>Own-child</td>\n",
       "      <td>White</td>\n",
       "      <td>Male</td>\n",
       "      <td>0</td>\n",
       "      <td>0</td>\n",
       "      <td>40</td>\n",
       "      <td>United-States</td>\n",
       "      <td>1</td>\n",
       "    </tr>\n",
       "    <tr>\n",
       "      <th>45156</th>\n",
       "      <td>42</td>\n",
       "      <td>Private</td>\n",
       "      <td>109912</td>\n",
       "      <td>Some-college</td>\n",
       "      <td>10</td>\n",
       "      <td>Never-married</td>\n",
       "      <td>Tech-support</td>\n",
       "      <td>Not-in-family</td>\n",
       "      <td>White</td>\n",
       "      <td>Female</td>\n",
       "      <td>0</td>\n",
       "      <td>0</td>\n",
       "      <td>40</td>\n",
       "      <td>United-States</td>\n",
       "      <td>0</td>\n",
       "    </tr>\n",
       "  </tbody>\n",
       "</table>\n",
       "<p>39073 rows × 15 columns</p>\n",
       "</div>"
      ],
      "text/plain": [
       "       age         workclass  fnlwgt     education  educational-num  \\\n",
       "2772    41  Self-emp-not-inc  171003       7th-8th                4   \n",
       "12386   41           Private   56651          12th                8   \n",
       "46891   51  Self-emp-not-inc   24790  Some-college               10   \n",
       "47964   18           Private  240543          11th                7   \n",
       "27542   78                 ?   83511       7th-8th                4   \n",
       "...    ...               ...     ...           ...              ...   \n",
       "14482   21         State-gov  254620  Some-college               10   \n",
       "34704   43           Private   90582       HS-grad                9   \n",
       "43264   36  Self-emp-not-inc  138940     Bachelors               13   \n",
       "34119   23           Private  393248  Some-college               10   \n",
       "45156   42           Private  109912  Some-college               10   \n",
       "\n",
       "           marital-status        occupation   relationship   race  gender  \\\n",
       "2772        Never-married     Other-service      Unmarried  White  Female   \n",
       "12386  Married-civ-spouse      Craft-repair        Husband  White    Male   \n",
       "46891  Married-civ-spouse   Exec-managerial        Husband  White    Male   \n",
       "47964       Never-married     Other-service      Own-child  White  Female   \n",
       "27542  Married-civ-spouse                 ?        Husband  White    Male   \n",
       "...                   ...               ...            ...    ...     ...   \n",
       "14482       Never-married    Prof-specialty      Own-child  White    Male   \n",
       "34704  Married-civ-spouse  Transport-moving        Husband  White    Male   \n",
       "43264  Married-civ-spouse   Exec-managerial        Husband  White    Male   \n",
       "34119       Never-married      Adm-clerical      Own-child  White    Male   \n",
       "45156       Never-married      Tech-support  Not-in-family  White  Female   \n",
       "\n",
       "       capital-gain  capital-loss  hours-per-week native-country  income  \n",
       "2772              0             0              30  United-States       1  \n",
       "12386             0             0              40  United-States       1  \n",
       "46891             0             0              99  United-States       0  \n",
       "47964             0             0              20  United-States       1  \n",
       "27542             0             0              40       Portugal       1  \n",
       "...             ...           ...             ...            ...     ...  \n",
       "14482             0             0              16  United-States       1  \n",
       "34704             0             0              40  United-States       1  \n",
       "43264          4386             0              50  United-States       0  \n",
       "34119             0             0              40  United-States       1  \n",
       "45156             0             0              40  United-States       0  \n",
       "\n",
       "[39073 rows x 15 columns]"
      ]
     },
     "execution_count": 15,
     "metadata": {},
     "output_type": "execute_result"
    }
   ],
   "source": [
    "train"
   ]
  },
  {
   "cell_type": "code",
   "execution_count": 16,
   "id": "b3b1edc0-3f5a-46a8-99be-b8e2f012954e",
   "metadata": {},
   "outputs": [
    {
     "data": {
      "text/html": [
       "<div>\n",
       "<style scoped>\n",
       "    .dataframe tbody tr th:only-of-type {\n",
       "        vertical-align: middle;\n",
       "    }\n",
       "\n",
       "    .dataframe tbody tr th {\n",
       "        vertical-align: top;\n",
       "    }\n",
       "\n",
       "    .dataframe thead th {\n",
       "        text-align: right;\n",
       "    }\n",
       "</style>\n",
       "<table border=\"1\" class=\"dataframe\">\n",
       "  <thead>\n",
       "    <tr style=\"text-align: right;\">\n",
       "      <th></th>\n",
       "      <th>age</th>\n",
       "      <th>workclass</th>\n",
       "      <th>fnlwgt</th>\n",
       "      <th>education</th>\n",
       "      <th>educational-num</th>\n",
       "      <th>marital-status</th>\n",
       "      <th>occupation</th>\n",
       "      <th>relationship</th>\n",
       "      <th>race</th>\n",
       "      <th>gender</th>\n",
       "      <th>capital-gain</th>\n",
       "      <th>capital-loss</th>\n",
       "      <th>hours-per-week</th>\n",
       "      <th>native-country</th>\n",
       "      <th>income</th>\n",
       "    </tr>\n",
       "  </thead>\n",
       "  <tbody>\n",
       "    <tr>\n",
       "      <th>11224</th>\n",
       "      <td>66</td>\n",
       "      <td>?</td>\n",
       "      <td>128609</td>\n",
       "      <td>HS-grad</td>\n",
       "      <td>9</td>\n",
       "      <td>Divorced</td>\n",
       "      <td>?</td>\n",
       "      <td>Not-in-family</td>\n",
       "      <td>Black</td>\n",
       "      <td>Male</td>\n",
       "      <td>0</td>\n",
       "      <td>0</td>\n",
       "      <td>40</td>\n",
       "      <td>United-States</td>\n",
       "      <td>0</td>\n",
       "    </tr>\n",
       "    <tr>\n",
       "      <th>40741</th>\n",
       "      <td>19</td>\n",
       "      <td>State-gov</td>\n",
       "      <td>194260</td>\n",
       "      <td>Some-college</td>\n",
       "      <td>10</td>\n",
       "      <td>Never-married</td>\n",
       "      <td>Adm-clerical</td>\n",
       "      <td>Own-child</td>\n",
       "      <td>White</td>\n",
       "      <td>Female</td>\n",
       "      <td>0</td>\n",
       "      <td>0</td>\n",
       "      <td>15</td>\n",
       "      <td>United-States</td>\n",
       "      <td>1</td>\n",
       "    </tr>\n",
       "    <tr>\n",
       "      <th>42972</th>\n",
       "      <td>51</td>\n",
       "      <td>Private</td>\n",
       "      <td>206775</td>\n",
       "      <td>Some-college</td>\n",
       "      <td>10</td>\n",
       "      <td>Married-civ-spouse</td>\n",
       "      <td>Handlers-cleaners</td>\n",
       "      <td>Husband</td>\n",
       "      <td>White</td>\n",
       "      <td>Male</td>\n",
       "      <td>0</td>\n",
       "      <td>0</td>\n",
       "      <td>50</td>\n",
       "      <td>United-States</td>\n",
       "      <td>1</td>\n",
       "    </tr>\n",
       "    <tr>\n",
       "      <th>3842</th>\n",
       "      <td>49</td>\n",
       "      <td>Self-emp-inc</td>\n",
       "      <td>182211</td>\n",
       "      <td>HS-grad</td>\n",
       "      <td>9</td>\n",
       "      <td>Married-civ-spouse</td>\n",
       "      <td>Sales</td>\n",
       "      <td>Husband</td>\n",
       "      <td>White</td>\n",
       "      <td>Male</td>\n",
       "      <td>0</td>\n",
       "      <td>0</td>\n",
       "      <td>50</td>\n",
       "      <td>United-States</td>\n",
       "      <td>0</td>\n",
       "    </tr>\n",
       "    <tr>\n",
       "      <th>31042</th>\n",
       "      <td>39</td>\n",
       "      <td>Private</td>\n",
       "      <td>286026</td>\n",
       "      <td>Bachelors</td>\n",
       "      <td>13</td>\n",
       "      <td>Married-civ-spouse</td>\n",
       "      <td>Adm-clerical</td>\n",
       "      <td>Husband</td>\n",
       "      <td>White</td>\n",
       "      <td>Male</td>\n",
       "      <td>0</td>\n",
       "      <td>0</td>\n",
       "      <td>40</td>\n",
       "      <td>United-States</td>\n",
       "      <td>0</td>\n",
       "    </tr>\n",
       "    <tr>\n",
       "      <th>...</th>\n",
       "      <td>...</td>\n",
       "      <td>...</td>\n",
       "      <td>...</td>\n",
       "      <td>...</td>\n",
       "      <td>...</td>\n",
       "      <td>...</td>\n",
       "      <td>...</td>\n",
       "      <td>...</td>\n",
       "      <td>...</td>\n",
       "      <td>...</td>\n",
       "      <td>...</td>\n",
       "      <td>...</td>\n",
       "      <td>...</td>\n",
       "      <td>...</td>\n",
       "      <td>...</td>\n",
       "    </tr>\n",
       "    <tr>\n",
       "      <th>5853</th>\n",
       "      <td>38</td>\n",
       "      <td>Private</td>\n",
       "      <td>208109</td>\n",
       "      <td>Bachelors</td>\n",
       "      <td>13</td>\n",
       "      <td>Divorced</td>\n",
       "      <td>Exec-managerial</td>\n",
       "      <td>Unmarried</td>\n",
       "      <td>White</td>\n",
       "      <td>Male</td>\n",
       "      <td>0</td>\n",
       "      <td>0</td>\n",
       "      <td>50</td>\n",
       "      <td>United-States</td>\n",
       "      <td>1</td>\n",
       "    </tr>\n",
       "    <tr>\n",
       "      <th>27708</th>\n",
       "      <td>24</td>\n",
       "      <td>Private</td>\n",
       "      <td>291355</td>\n",
       "      <td>Some-college</td>\n",
       "      <td>10</td>\n",
       "      <td>Divorced</td>\n",
       "      <td>Adm-clerical</td>\n",
       "      <td>Not-in-family</td>\n",
       "      <td>White</td>\n",
       "      <td>Female</td>\n",
       "      <td>0</td>\n",
       "      <td>0</td>\n",
       "      <td>60</td>\n",
       "      <td>United-States</td>\n",
       "      <td>1</td>\n",
       "    </tr>\n",
       "    <tr>\n",
       "      <th>13676</th>\n",
       "      <td>24</td>\n",
       "      <td>Private</td>\n",
       "      <td>111376</td>\n",
       "      <td>HS-grad</td>\n",
       "      <td>9</td>\n",
       "      <td>Never-married</td>\n",
       "      <td>Handlers-cleaners</td>\n",
       "      <td>Not-in-family</td>\n",
       "      <td>White</td>\n",
       "      <td>Male</td>\n",
       "      <td>0</td>\n",
       "      <td>0</td>\n",
       "      <td>40</td>\n",
       "      <td>United-States</td>\n",
       "      <td>1</td>\n",
       "    </tr>\n",
       "    <tr>\n",
       "      <th>5512</th>\n",
       "      <td>27</td>\n",
       "      <td>Private</td>\n",
       "      <td>257033</td>\n",
       "      <td>HS-grad</td>\n",
       "      <td>9</td>\n",
       "      <td>Never-married</td>\n",
       "      <td>Handlers-cleaners</td>\n",
       "      <td>Not-in-family</td>\n",
       "      <td>Black</td>\n",
       "      <td>Male</td>\n",
       "      <td>0</td>\n",
       "      <td>0</td>\n",
       "      <td>60</td>\n",
       "      <td>United-States</td>\n",
       "      <td>1</td>\n",
       "    </tr>\n",
       "    <tr>\n",
       "      <th>40214</th>\n",
       "      <td>71</td>\n",
       "      <td>Private</td>\n",
       "      <td>216608</td>\n",
       "      <td>Assoc-voc</td>\n",
       "      <td>11</td>\n",
       "      <td>Never-married</td>\n",
       "      <td>Adm-clerical</td>\n",
       "      <td>Not-in-family</td>\n",
       "      <td>White</td>\n",
       "      <td>Female</td>\n",
       "      <td>0</td>\n",
       "      <td>0</td>\n",
       "      <td>40</td>\n",
       "      <td>United-States</td>\n",
       "      <td>1</td>\n",
       "    </tr>\n",
       "  </tbody>\n",
       "</table>\n",
       "<p>9769 rows × 15 columns</p>\n",
       "</div>"
      ],
      "text/plain": [
       "       age     workclass  fnlwgt     education  educational-num  \\\n",
       "11224   66             ?  128609       HS-grad                9   \n",
       "40741   19     State-gov  194260  Some-college               10   \n",
       "42972   51       Private  206775  Some-college               10   \n",
       "3842    49  Self-emp-inc  182211       HS-grad                9   \n",
       "31042   39       Private  286026     Bachelors               13   \n",
       "...    ...           ...     ...           ...              ...   \n",
       "5853    38       Private  208109     Bachelors               13   \n",
       "27708   24       Private  291355  Some-college               10   \n",
       "13676   24       Private  111376       HS-grad                9   \n",
       "5512    27       Private  257033       HS-grad                9   \n",
       "40214   71       Private  216608     Assoc-voc               11   \n",
       "\n",
       "           marital-status         occupation   relationship   race  gender  \\\n",
       "11224            Divorced                  ?  Not-in-family  Black    Male   \n",
       "40741       Never-married       Adm-clerical      Own-child  White  Female   \n",
       "42972  Married-civ-spouse  Handlers-cleaners        Husband  White    Male   \n",
       "3842   Married-civ-spouse              Sales        Husband  White    Male   \n",
       "31042  Married-civ-spouse       Adm-clerical        Husband  White    Male   \n",
       "...                   ...                ...            ...    ...     ...   \n",
       "5853             Divorced    Exec-managerial      Unmarried  White    Male   \n",
       "27708            Divorced       Adm-clerical  Not-in-family  White  Female   \n",
       "13676       Never-married  Handlers-cleaners  Not-in-family  White    Male   \n",
       "5512        Never-married  Handlers-cleaners  Not-in-family  Black    Male   \n",
       "40214       Never-married       Adm-clerical  Not-in-family  White  Female   \n",
       "\n",
       "       capital-gain  capital-loss  hours-per-week native-country  income  \n",
       "11224             0             0              40  United-States       0  \n",
       "40741             0             0              15  United-States       1  \n",
       "42972             0             0              50  United-States       1  \n",
       "3842              0             0              50  United-States       0  \n",
       "31042             0             0              40  United-States       0  \n",
       "...             ...           ...             ...            ...     ...  \n",
       "5853              0             0              50  United-States       1  \n",
       "27708             0             0              60  United-States       1  \n",
       "13676             0             0              40  United-States       1  \n",
       "5512              0             0              60  United-States       1  \n",
       "40214             0             0              40  United-States       1  \n",
       "\n",
       "[9769 rows x 15 columns]"
      ]
     },
     "execution_count": 16,
     "metadata": {},
     "output_type": "execute_result"
    }
   ],
   "source": [
    "test"
   ]
  },
  {
   "cell_type": "markdown",
   "id": "9fc2cba8-4796-438e-8c97-ba26a4296b60",
   "metadata": {},
   "source": [
    "## Performing firstly a linear regression."
   ]
  },
  {
   "cell_type": "code",
   "execution_count": 17,
   "id": "f2bd7e63-7458-4c25-b0b3-6de843ae4a60",
   "metadata": {},
   "outputs": [],
   "source": [
    "y_train = train['income']\n",
    "X_train = train[['educational-num', 'age', 'hours-per-week']]"
   ]
  },
  {
   "cell_type": "code",
   "execution_count": 18,
   "id": "439df9b1-42e6-4ec3-9a9a-bb5a6e50edc4",
   "metadata": {},
   "outputs": [],
   "source": [
    "X_train = sm.add_constant(X_train)"
   ]
  },
  {
   "cell_type": "code",
   "execution_count": 19,
   "id": "7b936d0e-a3cc-40b6-8cb5-3128b8592556",
   "metadata": {},
   "outputs": [
    {
     "data": {
      "text/html": [
       "<table class=\"simpletable\">\n",
       "<caption>OLS Regression Results</caption>\n",
       "<tr>\n",
       "  <th>Dep. Variable:</th>         <td>income</td>      <th>  R-squared:         </th> <td>   0.188</td> \n",
       "</tr>\n",
       "<tr>\n",
       "  <th>Model:</th>                   <td>OLS</td>       <th>  Adj. R-squared:    </th> <td>   0.187</td> \n",
       "</tr>\n",
       "<tr>\n",
       "  <th>Method:</th>             <td>Least Squares</td>  <th>  F-statistic:       </th> <td>   3006.</td> \n",
       "</tr>\n",
       "<tr>\n",
       "  <th>Date:</th>             <td>Sun, 26 Jan 2025</td> <th>  Prob (F-statistic):</th>  <td>  0.00</td>  \n",
       "</tr>\n",
       "<tr>\n",
       "  <th>Time:</th>                 <td>17:46:01</td>     <th>  Log-Likelihood:    </th> <td> -18048.</td> \n",
       "</tr>\n",
       "<tr>\n",
       "  <th>No. Observations:</th>      <td> 39073</td>      <th>  AIC:               </th> <td>3.610e+04</td>\n",
       "</tr>\n",
       "<tr>\n",
       "  <th>Df Residuals:</th>          <td> 39069</td>      <th>  BIC:               </th> <td>3.614e+04</td>\n",
       "</tr>\n",
       "<tr>\n",
       "  <th>Df Model:</th>              <td>     3</td>      <th>                     </th>     <td> </td>    \n",
       "</tr>\n",
       "<tr>\n",
       "  <th>Covariance Type:</th>      <td>nonrobust</td>    <th>                     </th>     <td> </td>    \n",
       "</tr>\n",
       "</table>\n",
       "<table class=\"simpletable\">\n",
       "<tr>\n",
       "         <td></td>            <th>coef</th>     <th>std err</th>      <th>t</th>      <th>P>|t|</th>  <th>[0.025</th>    <th>0.975]</th>  \n",
       "</tr>\n",
       "<tr>\n",
       "  <th>const</th>           <td>    1.7548</td> <td>    0.011</td> <td>  164.221</td> <td> 0.000</td> <td>    1.734</td> <td>    1.776</td>\n",
       "</tr>\n",
       "<tr>\n",
       "  <th>educational-num</th> <td>   -0.0501</td> <td>    0.001</td> <td>  -65.653</td> <td> 0.000</td> <td>   -0.052</td> <td>   -0.049</td>\n",
       "</tr>\n",
       "<tr>\n",
       "  <th>age</th>             <td>   -0.0065</td> <td>    0.000</td> <td>  -46.053</td> <td> 0.000</td> <td>   -0.007</td> <td>   -0.006</td>\n",
       "</tr>\n",
       "<tr>\n",
       "  <th>hours-per-week</th>  <td>   -0.0058</td> <td>    0.000</td> <td>  -36.655</td> <td> 0.000</td> <td>   -0.006</td> <td>   -0.006</td>\n",
       "</tr>\n",
       "</table>\n",
       "<table class=\"simpletable\">\n",
       "<tr>\n",
       "  <th>Omnibus:</th>       <td>4128.091</td> <th>  Durbin-Watson:     </th> <td>   1.988</td>\n",
       "</tr>\n",
       "<tr>\n",
       "  <th>Prob(Omnibus):</th>  <td> 0.000</td>  <th>  Jarque-Bera (JB):  </th> <td>5020.370</td>\n",
       "</tr>\n",
       "<tr>\n",
       "  <th>Skew:</th>           <td>-0.850</td>  <th>  Prob(JB):          </th> <td>    0.00</td>\n",
       "</tr>\n",
       "<tr>\n",
       "  <th>Kurtosis:</th>       <td> 2.560</td>  <th>  Cond. No.          </th> <td>    322.</td>\n",
       "</tr>\n",
       "</table><br/><br/>Notes:<br/>[1] Standard Errors assume that the covariance matrix of the errors is correctly specified."
      ],
      "text/latex": [
       "\\begin{center}\n",
       "\\begin{tabular}{lclc}\n",
       "\\toprule\n",
       "\\textbf{Dep. Variable:}    &      income      & \\textbf{  R-squared:         } &     0.188   \\\\\n",
       "\\textbf{Model:}            &       OLS        & \\textbf{  Adj. R-squared:    } &     0.187   \\\\\n",
       "\\textbf{Method:}           &  Least Squares   & \\textbf{  F-statistic:       } &     3006.   \\\\\n",
       "\\textbf{Date:}             & Sun, 26 Jan 2025 & \\textbf{  Prob (F-statistic):} &     0.00    \\\\\n",
       "\\textbf{Time:}             &     17:46:01     & \\textbf{  Log-Likelihood:    } &   -18048.   \\\\\n",
       "\\textbf{No. Observations:} &       39073      & \\textbf{  AIC:               } & 3.610e+04   \\\\\n",
       "\\textbf{Df Residuals:}     &       39069      & \\textbf{  BIC:               } & 3.614e+04   \\\\\n",
       "\\textbf{Df Model:}         &           3      & \\textbf{                     } &             \\\\\n",
       "\\textbf{Covariance Type:}  &    nonrobust     & \\textbf{                     } &             \\\\\n",
       "\\bottomrule\n",
       "\\end{tabular}\n",
       "\\begin{tabular}{lcccccc}\n",
       "                         & \\textbf{coef} & \\textbf{std err} & \\textbf{t} & \\textbf{P$> |$t$|$} & \\textbf{[0.025} & \\textbf{0.975]}  \\\\\n",
       "\\midrule\n",
       "\\textbf{const}           &       1.7548  &        0.011     &   164.221  &         0.000        &        1.734    &        1.776     \\\\\n",
       "\\textbf{educational-num} &      -0.0501  &        0.001     &   -65.653  &         0.000        &       -0.052    &       -0.049     \\\\\n",
       "\\textbf{age}             &      -0.0065  &        0.000     &   -46.053  &         0.000        &       -0.007    &       -0.006     \\\\\n",
       "\\textbf{hours-per-week}  &      -0.0058  &        0.000     &   -36.655  &         0.000        &       -0.006    &       -0.006     \\\\\n",
       "\\bottomrule\n",
       "\\end{tabular}\n",
       "\\begin{tabular}{lclc}\n",
       "\\textbf{Omnibus:}       & 4128.091 & \\textbf{  Durbin-Watson:     } &    1.988  \\\\\n",
       "\\textbf{Prob(Omnibus):} &   0.000  & \\textbf{  Jarque-Bera (JB):  } & 5020.370  \\\\\n",
       "\\textbf{Skew:}          &  -0.850  & \\textbf{  Prob(JB):          } &     0.00  \\\\\n",
       "\\textbf{Kurtosis:}      &   2.560  & \\textbf{  Cond. No.          } &     322.  \\\\\n",
       "\\bottomrule\n",
       "\\end{tabular}\n",
       "%\\caption{OLS Regression Results}\n",
       "\\end{center}\n",
       "\n",
       "Notes: \\newline\n",
       " [1] Standard Errors assume that the covariance matrix of the errors is correctly specified."
      ],
      "text/plain": [
       "<class 'statsmodels.iolib.summary.Summary'>\n",
       "\"\"\"\n",
       "                            OLS Regression Results                            \n",
       "==============================================================================\n",
       "Dep. Variable:                 income   R-squared:                       0.188\n",
       "Model:                            OLS   Adj. R-squared:                  0.187\n",
       "Method:                 Least Squares   F-statistic:                     3006.\n",
       "Date:                Sun, 26 Jan 2025   Prob (F-statistic):               0.00\n",
       "Time:                        17:46:01   Log-Likelihood:                -18048.\n",
       "No. Observations:               39073   AIC:                         3.610e+04\n",
       "Df Residuals:                   39069   BIC:                         3.614e+04\n",
       "Df Model:                           3                                         \n",
       "Covariance Type:            nonrobust                                         \n",
       "===================================================================================\n",
       "                      coef    std err          t      P>|t|      [0.025      0.975]\n",
       "-----------------------------------------------------------------------------------\n",
       "const               1.7548      0.011    164.221      0.000       1.734       1.776\n",
       "educational-num    -0.0501      0.001    -65.653      0.000      -0.052      -0.049\n",
       "age                -0.0065      0.000    -46.053      0.000      -0.007      -0.006\n",
       "hours-per-week     -0.0058      0.000    -36.655      0.000      -0.006      -0.006\n",
       "==============================================================================\n",
       "Omnibus:                     4128.091   Durbin-Watson:                   1.988\n",
       "Prob(Omnibus):                  0.000   Jarque-Bera (JB):             5020.370\n",
       "Skew:                          -0.850   Prob(JB):                         0.00\n",
       "Kurtosis:                       2.560   Cond. No.                         322.\n",
       "==============================================================================\n",
       "\n",
       "Notes:\n",
       "[1] Standard Errors assume that the covariance matrix of the errors is correctly specified.\n",
       "\"\"\""
      ]
     },
     "execution_count": 19,
     "metadata": {},
     "output_type": "execute_result"
    }
   ],
   "source": [
    "model = sm.OLS(y_train, X_train, missing='drop')\n",
    "model_result = model.fit()\n",
    "model_result.summary()"
   ]
  },
  {
   "cell_type": "code",
   "execution_count": 20,
   "id": "8d2e46e9-e1c7-4ad4-9665-d5d52684a104",
   "metadata": {},
   "outputs": [
    {
     "data": {
      "text/plain": [
       "<Axes: ylabel='Count'>"
      ]
     },
     "execution_count": 20,
     "metadata": {},
     "output_type": "execute_result"
    },
    {
     "data": {
      "image/png": "[encoded data removed]",
      "text/plain": [
       "<Figure size 640x480 with 1 Axes>"
      ]
     },
     "metadata": {},
     "output_type": "display_data"
    }
   ],
   "source": [
    "sns.histplot(model_result.resid)"
   ]
  },
  {
   "cell_type": "code",
   "execution_count": 21,
   "id": "557fdd57-bbaf-4cd1-8837-3b51dfb50653",
   "metadata": {},
   "outputs": [
    {
     "data": {
      "text/plain": [
       "(np.float64(2.2489396803790748e-15), np.float64(0.384034737548245))"
      ]
     },
     "execution_count": 21,
     "metadata": {},
     "output_type": "execute_result"
    }
   ],
   "source": [
    "mu, std = stats.norm.fit(model_result.resid)\n",
    "mu, std"
   ]
  },
  {
   "cell_type": "code",
   "execution_count": 22,
   "id": "e71d19c7-9469-4200-821c-b60de0e106d9",
   "metadata": {},
   "outputs": [
    {
     "data": {
      "image/png": "[encoded data removed]",
      "text/plain": [
       "<Figure size 640x480 with 1 Axes>"
      ]
     },
     "metadata": {},
     "output_type": "display_data"
    }
   ],
   "source": [
    "fig, ax = plt.subplots()\n",
    "# plot the residuals\n",
    "sns.histplot(x=model_result.resid, ax=ax, stat=\"density\", linewidth=0, kde=True)\n",
    "ax.set(title=\"Distribution of residuals\", xlabel=\"residual\")\n",
    "\n",
    "# plot corresponding normal curve\n",
    "xmin, xmax = plt.xlim() # the maximum x values from the histogram above\n",
    "x = np.linspace(xmin, xmax, 100) # generate some x values\n",
    "p = stats.norm.pdf(x, mu, std) # calculate the y values for the normal curve\n",
    "sns.lineplot(x=x, y=p, color=\"orange\", ax=ax)\n",
    "plt.show()"
   ]
  },
  {
   "cell_type": "markdown",
   "id": "2d06ff7d-4a69-4d62-b78f-d6c3b876c389",
   "metadata": {},
   "source": [
    "### Applying the model to test data."
   ]
  },
  {
   "cell_type": "code",
   "execution_count": 23,
   "id": "1469aa64-ff71-4eef-852c-dfc6c5825dcb",
   "metadata": {},
   "outputs": [],
   "source": [
    "X_test = test[['educational-num', 'age', 'hours-per-week']]"
   ]
  },
  {
   "cell_type": "code",
   "execution_count": 24,
   "id": "be01dfea-00f2-4845-9db3-838cf95b34c2",
   "metadata": {},
   "outputs": [],
   "source": [
    "X_test = sm.add_constant(X_test)"
   ]
  },
  {
   "cell_type": "code",
   "execution_count": 25,
   "id": "64731087-0645-4060-8a9f-f77ad23b2a7c",
   "metadata": {},
   "outputs": [],
   "source": [
    "y_test = test['income']"
   ]
  },
  {
   "cell_type": "code",
   "execution_count": 26,
   "id": "a78628d9-3e8c-454e-bb37-238f55cf4b74",
   "metadata": {},
   "outputs": [],
   "source": [
    "y_pred = model_result.predict(X_test)"
   ]
  },
  {
   "cell_type": "code",
   "execution_count": 27,
   "id": "cdea3525-50fb-4ef9-b46d-190288050372",
   "metadata": {},
   "outputs": [
    {
     "data": {
      "text/plain": [
       "11224    0.640131\n",
       "40741    1.042683\n",
       "42972    0.629958\n",
       "3842     0.693104\n",
       "31042    0.616340\n",
       "           ...   \n",
       "5853     0.564722\n",
       "27708    0.748300\n",
       "13676    0.914683\n",
       "5512     0.778762\n",
       "40214    0.507302\n",
       "Length: 9769, dtype: float64"
      ]
     },
     "execution_count": 27,
     "metadata": {},
     "output_type": "execute_result"
    }
   ],
   "source": [
    "y_pred"
   ]
  },
  {
   "cell_type": "code",
   "execution_count": 28,
   "id": "e4201ec1-acc7-419f-bfc0-1deb24270d6d",
   "metadata": {},
   "outputs": [
    {
     "data": {
      "text/html": [
       "<div>\n",
       "<style scoped>\n",
       "    .dataframe tbody tr th:only-of-type {\n",
       "        vertical-align: middle;\n",
       "    }\n",
       "\n",
       "    .dataframe tbody tr th {\n",
       "        vertical-align: top;\n",
       "    }\n",
       "\n",
       "    .dataframe thead th {\n",
       "        text-align: right;\n",
       "    }\n",
       "</style>\n",
       "<table border=\"1\" class=\"dataframe\">\n",
       "  <thead>\n",
       "    <tr style=\"text-align: right;\">\n",
       "      <th></th>\n",
       "      <th>income</th>\n",
       "      <th>0</th>\n",
       "    </tr>\n",
       "  </thead>\n",
       "  <tbody>\n",
       "    <tr>\n",
       "      <th>11224</th>\n",
       "      <td>0</td>\n",
       "      <td>0.640131</td>\n",
       "    </tr>\n",
       "    <tr>\n",
       "      <th>40741</th>\n",
       "      <td>1</td>\n",
       "      <td>1.042683</td>\n",
       "    </tr>\n",
       "    <tr>\n",
       "      <th>42972</th>\n",
       "      <td>1</td>\n",
       "      <td>0.629958</td>\n",
       "    </tr>\n",
       "    <tr>\n",
       "      <th>3842</th>\n",
       "      <td>0</td>\n",
       "      <td>0.693104</td>\n",
       "    </tr>\n",
       "    <tr>\n",
       "      <th>31042</th>\n",
       "      <td>0</td>\n",
       "      <td>0.616340</td>\n",
       "    </tr>\n",
       "    <tr>\n",
       "      <th>...</th>\n",
       "      <td>...</td>\n",
       "      <td>...</td>\n",
       "    </tr>\n",
       "    <tr>\n",
       "      <th>5853</th>\n",
       "      <td>1</td>\n",
       "      <td>0.564722</td>\n",
       "    </tr>\n",
       "    <tr>\n",
       "      <th>27708</th>\n",
       "      <td>1</td>\n",
       "      <td>0.748300</td>\n",
       "    </tr>\n",
       "    <tr>\n",
       "      <th>13676</th>\n",
       "      <td>1</td>\n",
       "      <td>0.914683</td>\n",
       "    </tr>\n",
       "    <tr>\n",
       "      <th>5512</th>\n",
       "      <td>1</td>\n",
       "      <td>0.778762</td>\n",
       "    </tr>\n",
       "    <tr>\n",
       "      <th>40214</th>\n",
       "      <td>1</td>\n",
       "      <td>0.507302</td>\n",
       "    </tr>\n",
       "  </tbody>\n",
       "</table>\n",
       "<p>9769 rows × 2 columns</p>\n",
       "</div>"
      ],
      "text/plain": [
       "       income         0\n",
       "11224       0  0.640131\n",
       "40741       1  1.042683\n",
       "42972       1  0.629958\n",
       "3842        0  0.693104\n",
       "31042       0  0.616340\n",
       "...       ...       ...\n",
       "5853        1  0.564722\n",
       "27708       1  0.748300\n",
       "13676       1  0.914683\n",
       "5512        1  0.778762\n",
       "40214       1  0.507302\n",
       "\n",
       "[9769 rows x 2 columns]"
      ]
     },
     "execution_count": 28,
     "metadata": {},
     "output_type": "execute_result"
    }
   ],
   "source": [
    "pd.concat([y_test, y_pred], axis=1)"
   ]
  },
  {
   "cell_type": "markdown",
   "id": "af2f7ce9-c453-4084-9ffa-7820c8db2861",
   "metadata": {},
   "source": [
    "### The performance."
   ]
  },
  {
   "cell_type": "code",
   "execution_count": 29,
   "id": "f1a01cdc-26ce-4b76-bfdf-75ad41a1f81d",
   "metadata": {},
   "outputs": [
    {
     "data": {
      "text/plain": [
       "np.float64(0.31443567729141275)"
      ]
     },
     "execution_count": 29,
     "metadata": {},
     "output_type": "execute_result"
    }
   ],
   "source": [
    "abs(y_test - y_pred).mean()"
   ]
  },
  {
   "cell_type": "markdown",
   "id": "e6505c10-9025-4f56-b2e2-2491f8f75e77",
   "metadata": {},
   "source": [
    "### 0.314"
   ]
  },
  {
   "cell_type": "code",
   "execution_count": 30,
   "id": "c080353f-c065-49a0-8784-4b311f3b262c",
   "metadata": {
    "scrolled": true
   },
   "outputs": [
    {
     "data": {
      "text/html": [
       "<div>\n",
       "<style scoped>\n",
       "    .dataframe tbody tr th:only-of-type {\n",
       "        vertical-align: middle;\n",
       "    }\n",
       "\n",
       "    .dataframe tbody tr th {\n",
       "        vertical-align: top;\n",
       "    }\n",
       "\n",
       "    .dataframe thead th {\n",
       "        text-align: right;\n",
       "    }\n",
       "</style>\n",
       "<table border=\"1\" class=\"dataframe\">\n",
       "  <thead>\n",
       "    <tr style=\"text-align: right;\">\n",
       "      <th></th>\n",
       "      <th>mean</th>\n",
       "      <th>mean_se</th>\n",
       "      <th>mean_ci_lower</th>\n",
       "      <th>mean_ci_upper</th>\n",
       "      <th>obs_ci_lower</th>\n",
       "      <th>obs_ci_upper</th>\n",
       "    </tr>\n",
       "  </thead>\n",
       "  <tbody>\n",
       "    <tr>\n",
       "      <th>11224</th>\n",
       "      <td>0.640131</td>\n",
       "      <td>0.004426</td>\n",
       "      <td>0.631455</td>\n",
       "      <td>0.648807</td>\n",
       "      <td>-0.112675</td>\n",
       "      <td>1.392937</td>\n",
       "    </tr>\n",
       "    <tr>\n",
       "      <th>40741</th>\n",
       "      <td>1.042683</td>\n",
       "      <td>0.005131</td>\n",
       "      <td>1.032625</td>\n",
       "      <td>1.052740</td>\n",
       "      <td>0.289859</td>\n",
       "      <td>1.795506</td>\n",
       "    </tr>\n",
       "    <tr>\n",
       "      <th>42972</th>\n",
       "      <td>0.629958</td>\n",
       "      <td>0.002964</td>\n",
       "      <td>0.624148</td>\n",
       "      <td>0.635768</td>\n",
       "      <td>-0.122820</td>\n",
       "      <td>1.382737</td>\n",
       "    </tr>\n",
       "    <tr>\n",
       "      <th>3842</th>\n",
       "      <td>0.693104</td>\n",
       "      <td>0.002996</td>\n",
       "      <td>0.687232</td>\n",
       "      <td>0.698976</td>\n",
       "      <td>-0.059675</td>\n",
       "      <td>1.445883</td>\n",
       "    </tr>\n",
       "    <tr>\n",
       "      <th>31042</th>\n",
       "      <td>0.616340</td>\n",
       "      <td>0.002963</td>\n",
       "      <td>0.610532</td>\n",
       "      <td>0.622148</td>\n",
       "      <td>-0.136438</td>\n",
       "      <td>1.369119</td>\n",
       "    </tr>\n",
       "    <tr>\n",
       "      <th>...</th>\n",
       "      <td>...</td>\n",
       "      <td>...</td>\n",
       "      <td>...</td>\n",
       "      <td>...</td>\n",
       "      <td>...</td>\n",
       "      <td>...</td>\n",
       "    </tr>\n",
       "    <tr>\n",
       "      <th>5853</th>\n",
       "      <td>0.564722</td>\n",
       "      <td>0.003179</td>\n",
       "      <td>0.558492</td>\n",
       "      <td>0.570952</td>\n",
       "      <td>-0.188060</td>\n",
       "      <td>1.317504</td>\n",
       "    </tr>\n",
       "    <tr>\n",
       "      <th>27708</th>\n",
       "      <td>0.748300</td>\n",
       "      <td>0.004320</td>\n",
       "      <td>0.739833</td>\n",
       "      <td>0.756768</td>\n",
       "      <td>-0.004503</td>\n",
       "      <td>1.501104</td>\n",
       "    </tr>\n",
       "    <tr>\n",
       "      <th>13676</th>\n",
       "      <td>0.914683</td>\n",
       "      <td>0.002954</td>\n",
       "      <td>0.908893</td>\n",
       "      <td>0.920472</td>\n",
       "      <td>0.161904</td>\n",
       "      <td>1.667461</td>\n",
       "    </tr>\n",
       "    <tr>\n",
       "      <th>5512</th>\n",
       "      <td>0.778762</td>\n",
       "      <td>0.004266</td>\n",
       "      <td>0.770401</td>\n",
       "      <td>0.787122</td>\n",
       "      <td>0.025959</td>\n",
       "      <td>1.531564</td>\n",
       "    </tr>\n",
       "    <tr>\n",
       "      <th>40214</th>\n",
       "      <td>0.507302</td>\n",
       "      <td>0.005023</td>\n",
       "      <td>0.497457</td>\n",
       "      <td>0.517148</td>\n",
       "      <td>-0.245518</td>\n",
       "      <td>1.260123</td>\n",
       "    </tr>\n",
       "  </tbody>\n",
       "</table>\n",
       "<p>9769 rows × 6 columns</p>\n",
       "</div>"
      ],
      "text/plain": [
       "           mean   mean_se  mean_ci_lower  mean_ci_upper  obs_ci_lower  \\\n",
       "11224  0.640131  0.004426       0.631455       0.648807     -0.112675   \n",
       "40741  1.042683  0.005131       1.032625       1.052740      0.289859   \n",
       "42972  0.629958  0.002964       0.624148       0.635768     -0.122820   \n",
       "3842   0.693104  0.002996       0.687232       0.698976     -0.059675   \n",
       "31042  0.616340  0.002963       0.610532       0.622148     -0.136438   \n",
       "...         ...       ...            ...            ...           ...   \n",
       "5853   0.564722  0.003179       0.558492       0.570952     -0.188060   \n",
       "27708  0.748300  0.004320       0.739833       0.756768     -0.004503   \n",
       "13676  0.914683  0.002954       0.908893       0.920472      0.161904   \n",
       "5512   0.778762  0.004266       0.770401       0.787122      0.025959   \n",
       "40214  0.507302  0.005023       0.497457       0.517148     -0.245518   \n",
       "\n",
       "       obs_ci_upper  \n",
       "11224      1.392937  \n",
       "40741      1.795506  \n",
       "42972      1.382737  \n",
       "3842       1.445883  \n",
       "31042      1.369119  \n",
       "...             ...  \n",
       "5853       1.317504  \n",
       "27708      1.501104  \n",
       "13676      1.667461  \n",
       "5512       1.531564  \n",
       "40214      1.260123  \n",
       "\n",
       "[9769 rows x 6 columns]"
      ]
     },
     "execution_count": 30,
     "metadata": {},
     "output_type": "execute_result"
    }
   ],
   "source": [
    "model_result.get_prediction(X_test).summary_frame(alpha=0.05)"
   ]
  },
  {
   "cell_type": "markdown",
   "id": "70991ab2-40b8-43fc-bc5a-eb8e2678c569",
   "metadata": {},
   "source": [
    "## Secondly, we will try decision trees."
   ]
  },
  {
   "cell_type": "code",
   "execution_count": 31,
   "id": "53849fdb-22ca-458d-96f1-d0e43a37783a",
   "metadata": {},
   "outputs": [
    {
     "name": "stdout",
     "output_type": "stream",
     "text": [
      "1 0.24311597911761695\n",
      "2 0.2148633432285802\n",
      "3 0.21209949841334835\n",
      "4 0.20923328897533014\n",
      "5 0.2052410686866619\n",
      "6 0.20554816255502098\n",
      "7 0.2046268809499437\n",
      "8 0.2046268809499437\n",
      "9 0.2063670795373119\n",
      "10 0.206674173405671\n",
      "11 0.21199713379056198\n",
      "12 0.21578462483365748\n",
      "13 0.2183437404033166\n",
      "14 0.2228477838059167\n",
      "15 0.2230525130514894\n",
      "16 0.22540689937557581\n",
      "17 0.22878493192752586\n",
      "18 0.22878493192752586\n",
      "19 0.23032040126932132\n"
     ]
    }
   ],
   "source": [
    "for i in range(1,20):\n",
    "    clf = tree.DecisionTreeClassifier(max_depth=i)\n",
    "    \n",
    "    clf = clf.fit(X_train, y_train)\n",
    "    y_pred = clf.predict(X_test)\n",
    "    \n",
    "    y_pred_proba = clf.predict_proba\n",
    "    print(i, abs(y_test - y_pred).mean())"
   ]
  },
  {
   "cell_type": "markdown",
   "id": "b2843832-a2b6-4966-93ad-35efae534f70",
   "metadata": {},
   "source": [
    "### The performance."
   ]
  },
  {
   "cell_type": "markdown",
   "id": "857f7380-82a2-41fa-9243-584c70ae51b0",
   "metadata": {},
   "source": [
    "### Note.\n",
    "Decision trees perform somewhat better. Additionally, the optimum maximum depth is 5. From there and onwards, the model starts to overfit."
   ]
  },
  {
   "cell_type": "markdown",
   "id": "c2dfe3ec-2bb1-4eeb-81f8-e49f4f148098",
   "metadata": {
    "jp-MarkdownHeadingCollapsed": true
   },
   "source": [
    "### 0.194"
   ]
  },
  {
   "cell_type": "code",
   "execution_count": 32,
   "id": "b0fac829-d948-4abe-9913-c1b0e19cb080",
   "metadata": {},
   "outputs": [],
   "source": [
    "clf = tree.DecisionTreeClassifier(max_depth=5)\n",
    "\n",
    "clf = clf.fit(X_train, y_train)\n",
    "y_pred = clf.predict(X_test)\n",
    "\n",
    "y_pred_proba = clf.predict_proba"
   ]
  },
  {
   "cell_type": "markdown",
   "id": "e8d661fd-d82b-4a4e-91dd-ece285d2b50e",
   "metadata": {},
   "source": [
    "### The performance."
   ]
  },
  {
   "cell_type": "code",
   "execution_count": 33,
   "id": "2791f135-fbef-4495-9a52-b14078d8cb1c",
   "metadata": {},
   "outputs": [
    {
     "data": {
      "text/plain": [
       "np.float64(0.2052410686866619)"
      ]
     },
     "execution_count": 33,
     "metadata": {},
     "output_type": "execute_result"
    }
   ],
   "source": [
    "abs(y_test - y_pred).mean()"
   ]
  },
  {
   "cell_type": "code",
   "execution_count": 34,
   "id": "15126abb-e1cb-4576-a5b6-1a630f11cfe1",
   "metadata": {},
   "outputs": [
    {
     "name": "stdout",
     "output_type": "stream",
     "text": [
      "Depth of the Decision Tree : 5\n"
     ]
    }
   ],
   "source": [
    "print('Depth of the Decision Tree :', clf.get_depth())"
   ]
  },
  {
   "cell_type": "code",
   "execution_count": 35,
   "id": "7299d07b-db71-400f-acab-5cffe885bc1f",
   "metadata": {},
   "outputs": [
    {
     "name": "stdout",
     "output_type": "stream",
     "text": [
      "              precision    recall  f1-score   support\n",
      "\n",
      "           0       0.64      0.36      0.46      2375\n",
      "           1       0.82      0.93      0.87      7394\n",
      "\n",
      "    accuracy                           0.79      9769\n",
      "   macro avg       0.73      0.65      0.67      9769\n",
      "weighted avg       0.78      0.79      0.77      9769\n",
      "\n"
     ]
    }
   ],
   "source": [
    "print(classification_report(y_test, y_pred))"
   ]
  },
  {
   "cell_type": "markdown",
   "id": "6ef0a0b4-3b94-4e8d-ac02-e83c0d57e11f",
   "metadata": {},
   "source": [
    "## And lastly, we will be interested in random forests."
   ]
  },
  {
   "cell_type": "code",
   "execution_count": 36,
   "id": "8d837cf4-7e10-440c-a5b7-5504a4c44038",
   "metadata": {},
   "outputs": [
    {
     "name": "stdout",
     "output_type": "stream",
     "text": [
      "Number of Trees used :  100\n"
     ]
    }
   ],
   "source": [
    "clf = RandomForestClassifier()\n",
    "\n",
    "clf = clf.fit(X_train, y_train)\n",
    "y_pred = clf.predict(X_test)\n",
    "\n",
    "print('Number of Trees used : ', clf.n_estimators)"
   ]
  },
  {
   "cell_type": "code",
   "execution_count": 37,
   "id": "8bf5f082-7e2e-4e7b-aa6d-fbc08843d247",
   "metadata": {},
   "outputs": [
    {
     "name": "stdout",
     "output_type": "stream",
     "text": [
      "              precision    recall  f1-score   support\n",
      "\n",
      "           0       0.57      0.36      0.44      2375\n",
      "           1       0.82      0.91      0.86      7394\n",
      "\n",
      "    accuracy                           0.78      9769\n",
      "   macro avg       0.69      0.64      0.65      9769\n",
      "weighted avg       0.76      0.78      0.76      9769\n",
      "\n"
     ]
    }
   ],
   "source": [
    "print(classification_report(y_test, y_pred))"
   ]
  },
  {
   "cell_type": "markdown",
   "id": "d95d0a43-d093-4599-8e00-cbb84286e99f",
   "metadata": {},
   "source": [
    "### The performance."
   ]
  },
  {
   "cell_type": "code",
   "execution_count": 38,
   "id": "3298057c-b899-45e7-b6dc-6fe0ed88f52c",
   "metadata": {},
   "outputs": [
    {
     "data": {
      "text/plain": [
       "np.float64(0.22264305456034394)"
      ]
     },
     "execution_count": 38,
     "metadata": {},
     "output_type": "execute_result"
    }
   ],
   "source": [
    "abs(y_test - y_pred).mean()"
   ]
  },
  {
   "cell_type": "markdown",
   "id": "3c48448c-7511-4f04-b31c-b12362e1d7ad",
   "metadata": {},
   "source": [
    "### 0.213"
   ]
  },
  {
   "cell_type": "markdown",
   "id": "9bf5055b-193a-4cd0-b230-61f6f5b858bb",
   "metadata": {},
   "source": [
    "We covered the application of three models. Now, we will be interested in cross validation."
   ]
  },
  {
   "cell_type": "markdown",
   "id": "f66d2c81-a9f7-4b03-b830-fa16b31d7564",
   "metadata": {},
   "source": [
    "## Cross-validation"
   ]
  },
  {
   "cell_type": "markdown",
   "id": "f4f2a166-9ff3-4d5b-9311-7ece684007a9",
   "metadata": {},
   "source": [
    "First, let's appropriately redefine $X$ and $y$. We will no longer split the dataset intro train and test subsets manually. This will be done by the  `cross_val_score` function automatically. In fact, it will be done repeatedly, to get various partitions."
   ]
  },
  {
   "cell_type": "code",
   "execution_count": 39,
   "id": "01e8c3cf-dbea-4854-bb03-c60eabc0cad0",
   "metadata": {},
   "outputs": [],
   "source": [
    "y = df['income']\n",
    "X = df[['educational-num', 'age', 'hours-per-week']]\n",
    "X = sm.add_constant(X)"
   ]
  },
  {
   "cell_type": "code",
   "execution_count": 62,
   "id": "0c0db661-7cab-4b42-96d9-92918cfcfc7d",
   "metadata": {},
   "outputs": [],
   "source": [
    "reg = LinearRegression()"
   ]
  },
  {
   "cell_type": "code",
   "execution_count": 63,
   "id": "64d5955f-c633-4b19-9ca8-f45ae1e778f6",
   "metadata": {},
   "outputs": [],
   "source": [
    "scores = cross_validate(reg, X, y, cv=10)"
   ]
  },
  {
   "cell_type": "code",
   "execution_count": 64,
   "id": "b200dfc7-feb1-4100-88ea-7f150b937dfc",
   "metadata": {},
   "outputs": [
    {
     "name": "stdout",
     "output_type": "stream",
     "text": [
      "{'fit_time': array([0.0057528 , 0.0080359 , 0.01047873, 0.01068473, 0.00474   ,\n",
      "       0.0105989 , 0.01045465, 0.0042572 , 0.00688601, 0.00399899]), 'score_time': array([0.00323701, 0.00180626, 0.00311065, 0.00629878, 0.00385284,\n",
      "       0.00141263, 0.00139785, 0.00314713, 0.00126839, 0.00260329]), 'test_score': array([0.1859876 , 0.17315936, 0.18599327, 0.18712292, 0.17623149,\n",
      "       0.1770299 , 0.19740595, 0.17947111, 0.20200233, 0.20358964])}\n",
      "0.20358964134930058\n"
     ]
    }
   ],
   "source": [
    "print(scores)\n",
    "print(scores[\"test_score\"].max())"
   ]
  },
  {
   "cell_type": "code",
   "execution_count": 56,
   "id": "bf7c6fe3-ca07-4416-9bd3-d553817fc9ed",
   "metadata": {},
   "outputs": [],
   "source": [
    "clf = tree.DecisionTreeClassifier(max_depth=5)"
   ]
  },
  {
   "cell_type": "code",
   "execution_count": 57,
   "id": "3ad04c5a-651e-4619-9b2c-c077ab1902b8",
   "metadata": {},
   "outputs": [],
   "source": [
    "scores = cross_validate(clf, X, y, cv=10)"
   ]
  },
  {
   "cell_type": "code",
   "execution_count": 58,
   "id": "7879d04b-73f5-4ba9-9721-703fae762f21",
   "metadata": {},
   "outputs": [
    {
     "name": "stdout",
     "output_type": "stream",
     "text": [
      "{'fit_time': array([0.03243923, 0.02999663, 0.02083635, 0.02015018, 0.0203774 ,\n",
      "       0.01933193, 0.01734185, 0.01769781, 0.02099586, 0.01825333]), 'score_time': array([0.0033505 , 0.00189304, 0.00574851, 0.00177455, 0.0027051 ,\n",
      "       0.00166225, 0.00167036, 0.00191903, 0.00313807, 0.00165033]), 'test_score': array([0.79774821, 0.79897646, 0.78705979, 0.79873055, 0.7985258 ,\n",
      "       0.79340704, 0.8026208 , 0.79995905, 0.80200655, 0.80241605])}\n",
      "0.8026208026208026\n"
     ]
    }
   ],
   "source": [
    "print(scores)\n",
    "print(scores[\"test_score\"].max())"
   ]
  },
  {
   "cell_type": "code",
   "execution_count": 59,
   "id": "a2f37d19-64f6-4587-a6b5-867bac55ebb9",
   "metadata": {},
   "outputs": [],
   "source": [
    "clf = RandomForestClassifier()"
   ]
  },
  {
   "cell_type": "code",
   "execution_count": 60,
   "id": "f7e7a5f5-057d-4d65-8da4-12f2528acae8",
   "metadata": {},
   "outputs": [],
   "source": [
    "scores = cross_validate(clf, X, y, cv=10)"
   ]
  },
  {
   "cell_type": "code",
   "execution_count": 61,
   "id": "e421ff1b-3ab6-4a24-8a99-8ccb455de0c6",
   "metadata": {},
   "outputs": [
    {
     "name": "stdout",
     "output_type": "stream",
     "text": [
      "{'fit_time': array([2.05034518, 1.9101994 , 1.94931126, 1.9705236 , 1.87495399,\n",
      "       1.91364288, 1.82451034, 1.83398533, 1.92820168, 1.87960768]), 'score_time': array([0.07858896, 0.07067275, 0.07084084, 0.07092476, 0.07518482,\n",
      "       0.07008553, 0.07069778, 0.06952024, 0.06976867, 0.0702951 ]), 'test_score': array([0.7825998 , 0.78567042, 0.78501229, 0.78357903, 0.77927928,\n",
      "       0.77968878, 0.78521704, 0.78214578, 0.79279279, 0.78726454])}\n",
      "0.7927927927927928\n"
     ]
    }
   ],
   "source": [
    "print(scores)\n",
    "print(scores[\"test_score\"].max())"
   ]
  },
  {
   "cell_type": "markdown",
   "id": "3f0486d2-fa27-4fac-9164-c17498033a40",
   "metadata": {},
   "source": [
    "## Analysis"
   ]
  },
  {
   "cell_type": "markdown",
   "id": "ca1dee1d-d2a8-45d3-8f81-aab00f594beb",
   "metadata": {},
   "source": [
    "We get the best performance with decision tree classifier. The classifier itself has a depth parameter which seems to give the optimal result when it's 5."
   ]
  }
 ],
 "metadata": {
  "kernelspec": {
   "display_name": "venv",
   "language": "python",
   "name": "venv"
  },
  "language_info": {
   "codemirror_mode": {
    "name": "ipython",
    "version": 3
   },
   "file_extension": ".py",
   "mimetype": "text/x-python",
   "name": "python",
   "nbconvert_exporter": "python",
   "pygments_lexer": "ipython3",
   "version": "3.13.1"
  }
 },
 "nbformat": 4,
 "nbformat_minor": 5
}
