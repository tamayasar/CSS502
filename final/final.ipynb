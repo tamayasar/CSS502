{
 "cells": [
  {
   "cell_type": "code",
   "execution_count": 1,
   "id": "5d4ad922-13b0-4a8e-9450-475f298194b4",
   "metadata": {},
   "outputs": [],
   "source": [
    "import pandas as pd\n",
    "import ast\n",
    "import matplotlib.pyplot as plt\n",
    "from pprint import pprint\n",
    "import ast\n",
    "import numpy as np\n",
    "import pandas as pd\n",
    "import matplotlib.pyplot as plt\n",
    "from scipy.stats import levene, pearsonr\n",
    "import statsmodels.stats.api as sms\n",
    "import statsmodels.api as sm\n",
    "import seaborn as sns\n",
    "from scipy import stats\n",
    "import matplotlib.pyplot as plt\n",
    "import numpy as np"
   ]
  },
  {
   "cell_type": "code",
   "execution_count": 2,
   "id": "07122432-38af-40b0-b11a-fd6323f1c980",
   "metadata": {},
   "outputs": [],
   "source": [
    "data = pd.read_csv(\"data.csv\")"
   ]
  },
  {
   "cell_type": "markdown",
   "id": "0b27f2ba-8524-4346-a1ef-b182eaae0ac2",
   "metadata": {},
   "source": [
    "This is *an* evolution of preferences, produced with the model initiated with a map of width $N = 300$, that is, having $90000$ voters, having uniformly distributed initial preferences, carried out $300$ generations."
   ]
  },
  {
   "cell_type": "code",
   "execution_count": 4,
   "id": "eed1f5d1-3bfa-4798-9686-eada80d4be83",
   "metadata": {},
   "outputs": [
    {
     "data": {
      "text/html": [
       "<div>\n",
       "<style scoped>\n",
       "    .dataframe tbody tr th:only-of-type {\n",
       "        vertical-align: middle;\n",
       "    }\n",
       "\n",
       "    .dataframe tbody tr th {\n",
       "        vertical-align: top;\n",
       "    }\n",
       "\n",
       "    .dataframe thead th {\n",
       "        text-align: right;\n",
       "    }\n",
       "</style>\n",
       "<table border=\"1\" class=\"dataframe\">\n",
       "  <thead>\n",
       "    <tr style=\"text-align: right;\">\n",
       "      <th></th>\n",
       "      <th>Unnamed: 0</th>\n",
       "      <th>E</th>\n",
       "      <th>D</th>\n",
       "      <th>C</th>\n",
       "      <th>B</th>\n",
       "      <th>A</th>\n",
       "      <th>O</th>\n",
       "      <th>A'</th>\n",
       "      <th>B'</th>\n",
       "      <th>C'</th>\n",
       "      <th>D'</th>\n",
       "      <th>E'</th>\n",
       "      <th>outcomes</th>\n",
       "      <th>str_out_det</th>\n",
       "    </tr>\n",
       "  </thead>\n",
       "  <tbody>\n",
       "    <tr>\n",
       "      <th>0</th>\n",
       "      <td>0</td>\n",
       "      <td>8206</td>\n",
       "      <td>8289</td>\n",
       "      <td>8250</td>\n",
       "      <td>8072</td>\n",
       "      <td>8188</td>\n",
       "      <td>8178</td>\n",
       "      <td>8136</td>\n",
       "      <td>8141</td>\n",
       "      <td>8167</td>\n",
       "      <td>8290</td>\n",
       "      <td>8083</td>\n",
       "      <td>{'tie': 0, 'left_suc_strategic': 0, 'left_unsu...</td>\n",
       "      <td>{'left_suc_strategic': {-9: 0, -7: 0, -5: 0, -...</td>\n",
       "    </tr>\n",
       "    <tr>\n",
       "      <th>1</th>\n",
       "      <td>1</td>\n",
       "      <td>13272</td>\n",
       "      <td>7547</td>\n",
       "      <td>7153</td>\n",
       "      <td>6863</td>\n",
       "      <td>6385</td>\n",
       "      <td>8178</td>\n",
       "      <td>6401</td>\n",
       "      <td>6547</td>\n",
       "      <td>7015</td>\n",
       "      <td>7315</td>\n",
       "      <td>13324</td>\n",
       "      <td>{'tie': 826, 'left_suc_strategic': 1463, 'left...</td>\n",
       "      <td>{'left_suc_strategic': {-9: 0, -7: 165, -5: 27...</td>\n",
       "    </tr>\n",
       "    <tr>\n",
       "      <th>2</th>\n",
       "      <td>2</td>\n",
       "      <td>15053</td>\n",
       "      <td>7209</td>\n",
       "      <td>6718</td>\n",
       "      <td>6447</td>\n",
       "      <td>5926</td>\n",
       "      <td>8178</td>\n",
       "      <td>5691</td>\n",
       "      <td>5981</td>\n",
       "      <td>6648</td>\n",
       "      <td>7007</td>\n",
       "      <td>15142</td>\n",
       "      <td>{'tie': 664, 'left_suc_strategic': 959, 'left_...</td>\n",
       "      <td>{'left_suc_strategic': {-9: 0, -7: 103, -5: 22...</td>\n",
       "    </tr>\n",
       "    <tr>\n",
       "      <th>3</th>\n",
       "      <td>3</td>\n",
       "      <td>15501</td>\n",
       "      <td>7161</td>\n",
       "      <td>6652</td>\n",
       "      <td>6349</td>\n",
       "      <td>5738</td>\n",
       "      <td>8178</td>\n",
       "      <td>5545</td>\n",
       "      <td>5835</td>\n",
       "      <td>6524</td>\n",
       "      <td>6861</td>\n",
       "      <td>15656</td>\n",
       "      <td>{'tie': 449, 'left_suc_strategic': 602, 'left_...</td>\n",
       "      <td>{'left_suc_strategic': {-9: 0, -7: 73, -5: 127...</td>\n",
       "    </tr>\n",
       "    <tr>\n",
       "      <th>4</th>\n",
       "      <td>4</td>\n",
       "      <td>15618</td>\n",
       "      <td>7174</td>\n",
       "      <td>6591</td>\n",
       "      <td>6364</td>\n",
       "      <td>5684</td>\n",
       "      <td>8178</td>\n",
       "      <td>5503</td>\n",
       "      <td>5909</td>\n",
       "      <td>6512</td>\n",
       "      <td>6849</td>\n",
       "      <td>15618</td>\n",
       "      <td>{'tie': 368, 'left_suc_strategic': 375, 'left_...</td>\n",
       "      <td>{'left_suc_strategic': {-9: 0, -7: 38, -5: 87,...</td>\n",
       "    </tr>\n",
       "    <tr>\n",
       "      <th>...</th>\n",
       "      <td>...</td>\n",
       "      <td>...</td>\n",
       "      <td>...</td>\n",
       "      <td>...</td>\n",
       "      <td>...</td>\n",
       "      <td>...</td>\n",
       "      <td>...</td>\n",
       "      <td>...</td>\n",
       "      <td>...</td>\n",
       "      <td>...</td>\n",
       "      <td>...</td>\n",
       "      <td>...</td>\n",
       "      <td>...</td>\n",
       "      <td>...</td>\n",
       "    </tr>\n",
       "    <tr>\n",
       "      <th>295</th>\n",
       "      <td>295</td>\n",
       "      <td>10948</td>\n",
       "      <td>8098</td>\n",
       "      <td>7610</td>\n",
       "      <td>7359</td>\n",
       "      <td>6714</td>\n",
       "      <td>8178</td>\n",
       "      <td>6881</td>\n",
       "      <td>7244</td>\n",
       "      <td>7792</td>\n",
       "      <td>8138</td>\n",
       "      <td>11038</td>\n",
       "      <td>{'tie': 55, 'left_suc_strategic': 0, 'left_uns...</td>\n",
       "      <td>{'left_suc_strategic': {-9: 0, -7: 0, -5: 0, -...</td>\n",
       "    </tr>\n",
       "    <tr>\n",
       "      <th>296</th>\n",
       "      <td>296</td>\n",
       "      <td>10948</td>\n",
       "      <td>8098</td>\n",
       "      <td>7610</td>\n",
       "      <td>7359</td>\n",
       "      <td>6714</td>\n",
       "      <td>8178</td>\n",
       "      <td>6881</td>\n",
       "      <td>7244</td>\n",
       "      <td>7792</td>\n",
       "      <td>8138</td>\n",
       "      <td>11038</td>\n",
       "      <td>{'tie': 55, 'left_suc_strategic': 0, 'left_uns...</td>\n",
       "      <td>{'left_suc_strategic': {-9: 0, -7: 0, -5: 0, -...</td>\n",
       "    </tr>\n",
       "    <tr>\n",
       "      <th>297</th>\n",
       "      <td>297</td>\n",
       "      <td>10948</td>\n",
       "      <td>8098</td>\n",
       "      <td>7610</td>\n",
       "      <td>7359</td>\n",
       "      <td>6714</td>\n",
       "      <td>8178</td>\n",
       "      <td>6881</td>\n",
       "      <td>7244</td>\n",
       "      <td>7792</td>\n",
       "      <td>8138</td>\n",
       "      <td>11038</td>\n",
       "      <td>{'tie': 55, 'left_suc_strategic': 0, 'left_uns...</td>\n",
       "      <td>{'left_suc_strategic': {-9: 0, -7: 0, -5: 0, -...</td>\n",
       "    </tr>\n",
       "    <tr>\n",
       "      <th>298</th>\n",
       "      <td>298</td>\n",
       "      <td>10948</td>\n",
       "      <td>8098</td>\n",
       "      <td>7610</td>\n",
       "      <td>7359</td>\n",
       "      <td>6714</td>\n",
       "      <td>8178</td>\n",
       "      <td>6881</td>\n",
       "      <td>7244</td>\n",
       "      <td>7792</td>\n",
       "      <td>8138</td>\n",
       "      <td>11038</td>\n",
       "      <td>{'tie': 55, 'left_suc_strategic': 0, 'left_uns...</td>\n",
       "      <td>{'left_suc_strategic': {-9: 0, -7: 0, -5: 0, -...</td>\n",
       "    </tr>\n",
       "    <tr>\n",
       "      <th>299</th>\n",
       "      <td>299</td>\n",
       "      <td>10948</td>\n",
       "      <td>8098</td>\n",
       "      <td>7610</td>\n",
       "      <td>7359</td>\n",
       "      <td>6714</td>\n",
       "      <td>8178</td>\n",
       "      <td>6881</td>\n",
       "      <td>7244</td>\n",
       "      <td>7792</td>\n",
       "      <td>8138</td>\n",
       "      <td>11038</td>\n",
       "      <td>{'tie': 55, 'left_suc_strategic': 0, 'left_uns...</td>\n",
       "      <td>{'left_suc_strategic': {-9: 0, -7: 0, -5: 0, -...</td>\n",
       "    </tr>\n",
       "  </tbody>\n",
       "</table>\n",
       "<p>300 rows × 14 columns</p>\n",
       "</div>"
      ],
      "text/plain": [
       "     Unnamed: 0      E     D     C     B     A     O    A'    B'    C'    D'  \\\n",
       "0             0   8206  8289  8250  8072  8188  8178  8136  8141  8167  8290   \n",
       "1             1  13272  7547  7153  6863  6385  8178  6401  6547  7015  7315   \n",
       "2             2  15053  7209  6718  6447  5926  8178  5691  5981  6648  7007   \n",
       "3             3  15501  7161  6652  6349  5738  8178  5545  5835  6524  6861   \n",
       "4             4  15618  7174  6591  6364  5684  8178  5503  5909  6512  6849   \n",
       "..          ...    ...   ...   ...   ...   ...   ...   ...   ...   ...   ...   \n",
       "295         295  10948  8098  7610  7359  6714  8178  6881  7244  7792  8138   \n",
       "296         296  10948  8098  7610  7359  6714  8178  6881  7244  7792  8138   \n",
       "297         297  10948  8098  7610  7359  6714  8178  6881  7244  7792  8138   \n",
       "298         298  10948  8098  7610  7359  6714  8178  6881  7244  7792  8138   \n",
       "299         299  10948  8098  7610  7359  6714  8178  6881  7244  7792  8138   \n",
       "\n",
       "        E'                                           outcomes  \\\n",
       "0     8083  {'tie': 0, 'left_suc_strategic': 0, 'left_unsu...   \n",
       "1    13324  {'tie': 826, 'left_suc_strategic': 1463, 'left...   \n",
       "2    15142  {'tie': 664, 'left_suc_strategic': 959, 'left_...   \n",
       "3    15656  {'tie': 449, 'left_suc_strategic': 602, 'left_...   \n",
       "4    15618  {'tie': 368, 'left_suc_strategic': 375, 'left_...   \n",
       "..     ...                                                ...   \n",
       "295  11038  {'tie': 55, 'left_suc_strategic': 0, 'left_uns...   \n",
       "296  11038  {'tie': 55, 'left_suc_strategic': 0, 'left_uns...   \n",
       "297  11038  {'tie': 55, 'left_suc_strategic': 0, 'left_uns...   \n",
       "298  11038  {'tie': 55, 'left_suc_strategic': 0, 'left_uns...   \n",
       "299  11038  {'tie': 55, 'left_suc_strategic': 0, 'left_uns...   \n",
       "\n",
       "                                           str_out_det  \n",
       "0    {'left_suc_strategic': {-9: 0, -7: 0, -5: 0, -...  \n",
       "1    {'left_suc_strategic': {-9: 0, -7: 165, -5: 27...  \n",
       "2    {'left_suc_strategic': {-9: 0, -7: 103, -5: 22...  \n",
       "3    {'left_suc_strategic': {-9: 0, -7: 73, -5: 127...  \n",
       "4    {'left_suc_strategic': {-9: 0, -7: 38, -5: 87,...  \n",
       "..                                                 ...  \n",
       "295  {'left_suc_strategic': {-9: 0, -7: 0, -5: 0, -...  \n",
       "296  {'left_suc_strategic': {-9: 0, -7: 0, -5: 0, -...  \n",
       "297  {'left_suc_strategic': {-9: 0, -7: 0, -5: 0, -...  \n",
       "298  {'left_suc_strategic': {-9: 0, -7: 0, -5: 0, -...  \n",
       "299  {'left_suc_strategic': {-9: 0, -7: 0, -5: 0, -...  \n",
       "\n",
       "[300 rows x 14 columns]"
      ]
     },
     "execution_count": 4,
     "metadata": {},
     "output_type": "execute_result"
    }
   ],
   "source": [
    "data"
   ]
  },
  {
   "cell_type": "markdown",
   "id": "ab478068-3aab-4eb0-b913-12d929c0c66b",
   "metadata": {},
   "source": [
    "# Distribution of the strategic votes"
   ]
  },
  {
   "cell_type": "code",
   "execution_count": 6,
   "id": "53f580bb-7f0e-4517-ac90-38b9f5a41c59",
   "metadata": {},
   "outputs": [],
   "source": [
    "# Let's print out some random generation to see what it looks like."
   ]
  },
  {
   "cell_type": "code",
   "execution_count": 7,
   "id": "0a3de382-d19a-4b7a-9392-cf1da89e54ed",
   "metadata": {},
   "outputs": [],
   "source": [
    "# We can, for example, look at the total number of strategic votes of each types."
   ]
  },
  {
   "cell_type": "code",
   "execution_count": 8,
   "id": "bdb6d6fb-3d30-4347-aa9b-d5e99ec24e1d",
   "metadata": {},
   "outputs": [
    {
     "data": {
      "text/plain": [
       "\"{'left_suc_strategic': {-9: 0, -7: 15, -5: 37, -3: 43, -1: 35}, 'left_unsuc_best_try': {-9: 1225, -7: 163, -5: 143, -3: 130, -1: 131}, 'right_suc_strategic': {1: 32, 3: 47, 5: 18, 7: 18, 9: 0}, 'right_unsuc_best_try': {1: 129, 3: 135, 5: 144, 7: 130, 9: 1257}}\""
      ]
     },
     "execution_count": 8,
     "metadata": {},
     "output_type": "execute_result"
    }
   ],
   "source": [
    "data.str_out_det[10]"
   ]
  },
  {
   "cell_type": "code",
   "execution_count": 9,
   "id": "0d7108e4-d37d-4fe1-9df2-92062dd33207",
   "metadata": {},
   "outputs": [
    {
     "data": {
      "text/plain": [
       "{'left_suc_strategic': {-9: 0, -7: 15, -5: 37, -3: 43, -1: 35},\n",
       " 'left_unsuc_best_try': {-9: 1225, -7: 163, -5: 143, -3: 130, -1: 131},\n",
       " 'right_suc_strategic': {1: 32, 3: 47, 5: 18, 7: 18, 9: 0},\n",
       " 'right_unsuc_best_try': {1: 129, 3: 135, 5: 144, 7: 130, 9: 1257}}"
      ]
     },
     "execution_count": 9,
     "metadata": {},
     "output_type": "execute_result"
    }
   ],
   "source": [
    "a = ast.literal_eval(data.str_out_det[10]); a"
   ]
  },
  {
   "cell_type": "code",
   "execution_count": 10,
   "id": "9eae4a4e-6435-4112-9c94-7be146537313",
   "metadata": {},
   "outputs": [
    {
     "data": {
      "text/plain": [
       "{-9: 0, -7: 15, -5: 37, -3: 43, -1: 35}"
      ]
     },
     "execution_count": 10,
     "metadata": {},
     "output_type": "execute_result"
    }
   ],
   "source": [
    "a[\"left_suc_strategic\"]"
   ]
  },
  {
   "cell_type": "code",
   "execution_count": 11,
   "id": "b4a95087-f2f4-44b3-bf6f-83c46be6ea98",
   "metadata": {},
   "outputs": [
    {
     "data": {
      "text/plain": [
       "0"
      ]
     },
     "execution_count": 11,
     "metadata": {},
     "output_type": "execute_result"
    }
   ],
   "source": [
    "a[\"left_suc_strategic\"][-9]"
   ]
  },
  {
   "cell_type": "code",
   "execution_count": 12,
   "id": "389ba2ea-ec30-4637-a300-6c018a4e8869",
   "metadata": {},
   "outputs": [
    {
     "data": {
      "text/plain": [
       "[{-9: 0, -7: 15, -5: 37, -3: 43, -1: 35},\n",
       " {-9: 1225, -7: 163, -5: 143, -3: 130, -1: 131}]"
      ]
     },
     "execution_count": 12,
     "metadata": {},
     "output_type": "execute_result"
    }
   ],
   "source": [
    "lefts = [a[\"left_suc_strategic\"], a[\"left_unsuc_best_try\"]]; lefts"
   ]
  },
  {
   "cell_type": "code",
   "execution_count": 13,
   "id": "02e917da-5b1f-41ab-b821-e37519542ce6",
   "metadata": {},
   "outputs": [
    {
     "data": {
      "text/plain": [
       "[[0, 15, 37, 43, 35], [1225, 163, 143, 130, 131]]"
      ]
     },
     "execution_count": 13,
     "metadata": {},
     "output_type": "execute_result"
    }
   ],
   "source": [
    "[[i[k] for k in i] for i in lefts]"
   ]
  },
  {
   "cell_type": "code",
   "execution_count": 14,
   "id": "39b69be9-496a-4ad8-8f36-777e0cccd843",
   "metadata": {},
   "outputs": [
    {
     "data": {
      "text/plain": [
       "[1225, 178, 180, 173, 166]"
      ]
     },
     "execution_count": 14,
     "metadata": {},
     "output_type": "execute_result"
    }
   ],
   "source": [
    "[sum(x) for x in zip(*[[i[k] for k in i] for i in lefts])]"
   ]
  },
  {
   "cell_type": "code",
   "execution_count": 15,
   "id": "03c012e9-ce7a-4458-aac3-057849efdca1",
   "metadata": {},
   "outputs": [],
   "source": [
    "lefts_sums = []"
   ]
  },
  {
   "cell_type": "code",
   "execution_count": 16,
   "id": "985866ef-93e3-4650-932a-5390c45bf8e4",
   "metadata": {},
   "outputs": [],
   "source": [
    "for i in range(len(data.str_out_det)):\n",
    "    a = ast.literal_eval(data.str_out_det[i])\n",
    "    lefts = [a[\"left_suc_strategic\"], a[\"left_unsuc_best_try\"]]\n",
    "    lefts_sums.append([sum(x) for x in zip(*[[i[k] for k in i] for i in lefts])])"
   ]
  },
  {
   "cell_type": "code",
   "execution_count": 17,
   "id": "b252ce00-b986-4457-9009-9d9b4d89374a",
   "metadata": {
    "scrolled": true
   },
   "outputs": [
    {
     "data": {
      "text/plain": [
       "[[0, 0, 0, 0, 0],\n",
       " [1079, 1255, 1371, 1495, 1769],\n",
       " [2290, 880, 913, 928, 905],\n",
       " [2368, 572, 596, 607, 638],\n",
       " [2317, 488, 471, 472, 482],\n",
       " [2283, 385, 357, 387, 389],\n",
       " [1980, 319, 284, 299, 308],\n",
       " [1783, 256, 236, 252, 232],\n",
       " [1520, 209, 232, 204, 216],\n",
       " [1354, 193, 181, 187, 188],\n",
       " [1225, 178, 180, 173, 166],\n",
       " [1099, 174, 128, 155, 141],\n",
       " [970, 144, 128, 136, 112],\n",
       " [875, 130, 102, 125, 117],\n",
       " [823, 97, 98, 100, 99],\n",
       " [671, 96, 83, 89, 108],\n",
       " [612, 100, 88, 89, 78],\n",
       " [579, 73, 71, 74, 74],\n",
       " [515, 58, 67, 72, 62],\n",
       " [467, 70, 56, 77, 67],\n",
       " [379, 63, 82, 61, 59],\n",
       " [381, 68, 64, 51, 47],\n",
       " [355, 51, 60, 67, 42],\n",
       " [313, 58, 51, 59, 44],\n",
       " [285, 37, 61, 46, 57],\n",
       " [307, 59, 42, 45, 34],\n",
       " [264, 43, 39, 51, 34],\n",
       " [268, 44, 41, 38, 43],\n",
       " [232, 47, 49, 45, 32],\n",
       " [222, 23, 29, 27, 35],\n",
       " [204, 26, 34, 34, 28],\n",
       " [179, 41, 41, 28, 32],\n",
       " [184, 35, 33, 28, 33],\n",
       " [176, 38, 30, 31, 20],\n",
       " [165, 25, 25, 22, 38],\n",
       " [171, 29, 33, 25, 25],\n",
       " [162, 25, 29, 33, 30],\n",
       " [137, 24, 18, 26, 23],\n",
       " [151, 24, 33, 20, 29],\n",
       " [132, 27, 27, 24, 25],\n",
       " [131, 31, 22, 24, 19],\n",
       " [129, 22, 25, 24, 24],\n",
       " [119, 31, 22, 26, 27],\n",
       " [128, 23, 18, 25, 23],\n",
       " [124, 24, 21, 11, 15],\n",
       " [117, 24, 23, 20, 24],\n",
       " [116, 21, 15, 21, 26],\n",
       " [108, 26, 29, 20, 18],\n",
       " [107, 12, 15, 27, 23],\n",
       " [108, 19, 16, 22, 24],\n",
       " [101, 14, 17, 17, 15],\n",
       " [96, 25, 25, 16, 20],\n",
       " [97, 16, 17, 18, 15],\n",
       " [95, 27, 25, 23, 19],\n",
       " [82, 16, 21, 22, 20],\n",
       " [118, 22, 18, 18, 17],\n",
       " [82, 17, 9, 14, 14],\n",
       " [85, 17, 17, 14, 11],\n",
       " [85, 26, 12, 23, 16],\n",
       " [77, 16, 10, 18, 17],\n",
       " [84, 18, 18, 14, 18],\n",
       " [84, 17, 17, 23, 14],\n",
       " [85, 10, 9, 21, 17],\n",
       " [73, 16, 13, 9, 14],\n",
       " [65, 19, 12, 22, 18],\n",
       " [64, 17, 17, 15, 10],\n",
       " [75, 18, 8, 16, 12],\n",
       " [59, 13, 18, 15, 13],\n",
       " [65, 12, 19, 22, 21],\n",
       " [77, 15, 14, 18, 13],\n",
       " [65, 16, 10, 20, 4],\n",
       " [61, 5, 14, 15, 11],\n",
       " [64, 12, 21, 4, 11],\n",
       " [56, 16, 10, 23, 12],\n",
       " [64, 19, 14, 13, 16],\n",
       " [62, 10, 10, 11, 9],\n",
       " [58, 18, 12, 14, 11],\n",
       " [65, 10, 11, 20, 12],\n",
       " [59, 9, 13, 13, 9],\n",
       " [52, 9, 6, 10, 8],\n",
       " [51, 6, 11, 9, 10],\n",
       " [57, 6, 14, 14, 10],\n",
       " [61, 5, 14, 17, 8],\n",
       " [50, 14, 8, 8, 7],\n",
       " [52, 8, 11, 15, 9],\n",
       " [47, 14, 6, 5, 15],\n",
       " [46, 8, 16, 14, 5],\n",
       " [39, 10, 11, 7, 3],\n",
       " [50, 10, 11, 10, 3],\n",
       " [53, 13, 12, 6, 7],\n",
       " [42, 9, 12, 7, 6],\n",
       " [38, 10, 13, 8, 10],\n",
       " [43, 11, 11, 17, 4],\n",
       " [44, 9, 8, 9, 7],\n",
       " [48, 8, 6, 3, 9],\n",
       " [41, 5, 8, 7, 5],\n",
       " [46, 12, 10, 14, 8],\n",
       " [36, 7, 11, 7, 10],\n",
       " [39, 5, 12, 5, 6],\n",
       " [40, 7, 6, 9, 8],\n",
       " [37, 3, 8, 5, 5],\n",
       " [27, 8, 13, 6, 9],\n",
       " [43, 3, 4, 8, 11],\n",
       " [40, 9, 7, 4, 6],\n",
       " [40, 8, 8, 6, 3],\n",
       " [36, 8, 10, 2, 7],\n",
       " [39, 2, 7, 5, 3],\n",
       " [37, 7, 6, 3, 7],\n",
       " [42, 4, 4, 6, 10],\n",
       " [40, 4, 8, 7, 5],\n",
       " [28, 9, 7, 9, 14],\n",
       " [26, 10, 11, 3, 1],\n",
       " [28, 11, 7, 8, 7],\n",
       " [21, 10, 9, 4, 4],\n",
       " [28, 7, 6, 8, 10],\n",
       " [31, 5, 7, 3, 4],\n",
       " [31, 9, 10, 3, 7],\n",
       " [30, 2, 6, 9, 6],\n",
       " [34, 4, 3, 4, 6],\n",
       " [35, 2, 1, 7, 5],\n",
       " [24, 8, 4, 10, 3],\n",
       " [24, 6, 8, 6, 5],\n",
       " [28, 6, 11, 2, 5],\n",
       " [23, 6, 4, 4, 6],\n",
       " [27, 10, 7, 6, 2],\n",
       " [32, 5, 6, 7, 4],\n",
       " [22, 5, 7, 3, 2],\n",
       " [32, 3, 7, 4, 2],\n",
       " [27, 1, 6, 2, 7],\n",
       " [27, 4, 2, 3, 8],\n",
       " [20, 4, 4, 6, 3],\n",
       " [22, 2, 4, 4, 5],\n",
       " [18, 4, 4, 5, 6],\n",
       " [15, 3, 4, 5, 0],\n",
       " [22, 8, 4, 5, 6],\n",
       " [21, 6, 3, 5, 5],\n",
       " [9, 8, 5, 5, 3],\n",
       " [22, 4, 4, 4, 9],\n",
       " [25, 6, 3, 6, 6],\n",
       " [19, 6, 4, 1, 1],\n",
       " [24, 6, 2, 4, 5],\n",
       " [19, 5, 4, 4, 4],\n",
       " [8, 2, 2, 5, 1],\n",
       " [12, 5, 3, 2, 9],\n",
       " [13, 5, 6, 11, 2],\n",
       " [16, 5, 4, 3, 0],\n",
       " [20, 4, 7, 3, 4],\n",
       " [11, 2, 1, 1, 4],\n",
       " [12, 3, 0, 2, 5],\n",
       " [11, 1, 2, 4, 6],\n",
       " [15, 5, 7, 5, 2],\n",
       " [13, 3, 0, 0, 3],\n",
       " [14, 2, 2, 1, 3],\n",
       " [5, 1, 1, 6, 0],\n",
       " [11, 0, 4, 5, 2],\n",
       " [12, 4, 3, 2, 3],\n",
       " [7, 3, 2, 2, 1],\n",
       " [8, 1, 2, 1, 0],\n",
       " [7, 2, 1, 4, 3],\n",
       " [12, 3, 4, 0, 2],\n",
       " [6, 3, 2, 1, 2],\n",
       " [9, 2, 3, 0, 0],\n",
       " [7, 5, 2, 2, 0],\n",
       " [6, 3, 3, 5, 3],\n",
       " [12, 0, 4, 3, 2],\n",
       " [7, 1, 5, 1, 1],\n",
       " [12, 0, 2, 2, 2],\n",
       " [10, 2, 0, 4, 3],\n",
       " [7, 2, 3, 2, 0],\n",
       " [7, 4, 0, 1, 3],\n",
       " [9, 2, 3, 1, 1],\n",
       " [9, 2, 1, 1, 3],\n",
       " [9, 2, 2, 2, 2],\n",
       " [7, 0, 4, 2, 2],\n",
       " [7, 0, 2, 1, 2],\n",
       " [7, 4, 2, 2, 1],\n",
       " [4, 5, 0, 5, 0],\n",
       " [8, 4, 3, 2, 4],\n",
       " [7, 0, 0, 5, 3],\n",
       " [8, 1, 2, 5, 2],\n",
       " [8, 4, 1, 2, 1],\n",
       " [8, 2, 1, 2, 1],\n",
       " [7, 2, 2, 2, 1],\n",
       " [12, 3, 3, 0, 2],\n",
       " [8, 1, 2, 0, 1],\n",
       " [6, 2, 0, 0, 1],\n",
       " [8, 1, 1, 2, 3],\n",
       " [7, 2, 1, 3, 2],\n",
       " [6, 0, 4, 3, 4],\n",
       " [10, 0, 0, 2, 0],\n",
       " [7, 3, 2, 0, 1],\n",
       " [8, 3, 2, 2, 0],\n",
       " [12, 2, 3, 0, 1],\n",
       " [6, 4, 1, 1, 2],\n",
       " [10, 1, 0, 4, 0],\n",
       " [8, 2, 4, 0, 1],\n",
       " [11, 0, 0, 2, 0],\n",
       " [9, 2, 4, 0, 1],\n",
       " [4, 0, 2, 1, 2],\n",
       " [11, 1, 4, 1, 3],\n",
       " [7, 0, 1, 1, 0],\n",
       " [10, 3, 6, 1, 1],\n",
       " [7, 0, 1, 1, 1],\n",
       " [7, 4, 1, 0, 3],\n",
       " [11, 1, 0, 1, 2],\n",
       " [6, 6, 1, 2, 2],\n",
       " [5, 0, 2, 3, 2],\n",
       " [12, 2, 0, 4, 0],\n",
       " [6, 1, 2, 2, 1],\n",
       " [5, 0, 3, 2, 2],\n",
       " [12, 0, 3, 0, 2],\n",
       " [4, 2, 2, 0, 1],\n",
       " [9, 2, 1, 0, 3],\n",
       " [8, 2, 1, 5, 1],\n",
       " [7, 2, 0, 2, 0],\n",
       " [3, 1, 0, 1, 2],\n",
       " [3, 1, 1, 2, 1],\n",
       " [3, 4, 2, 2, 0],\n",
       " [4, 1, 3, 2, 1],\n",
       " [6, 3, 0, 1, 2],\n",
       " [4, 0, 0, 0, 0],\n",
       " [4, 3, 0, 2, 1],\n",
       " [3, 0, 2, 1, 1],\n",
       " [3, 1, 0, 0, 2],\n",
       " [3, 0, 0, 1, 0],\n",
       " [5, 1, 1, 1, 0],\n",
       " [5, 1, 1, 0, 0],\n",
       " [2, 0, 1, 0, 1],\n",
       " [5, 1, 2, 1, 4],\n",
       " [3, 0, 0, 1, 1],\n",
       " [1, 0, 1, 0, 1],\n",
       " [3, 0, 0, 0, 3],\n",
       " [1, 0, 1, 1, 0],\n",
       " [3, 0, 1, 0, 0],\n",
       " [4, 1, 0, 0, 1],\n",
       " [5, 0, 0, 0, 0],\n",
       " [2, 0, 0, 0, 0],\n",
       " [3, 1, 0, 1, 1],\n",
       " [3, 1, 1, 1, 0],\n",
       " [4, 2, 0, 0, 1],\n",
       " [4, 0, 1, 0, 0],\n",
       " [4, 1, 0, 1, 1],\n",
       " [3, 0, 2, 0, 0],\n",
       " [5, 2, 0, 1, 2],\n",
       " [5, 0, 1, 0, 0],\n",
       " [4, 0, 0, 0, 0],\n",
       " [2, 0, 0, 1, 2],\n",
       " [3, 0, 2, 1, 0],\n",
       " [2, 1, 0, 0, 0],\n",
       " [0, 0, 2, 0, 0],\n",
       " [0, 2, 0, 0, 0],\n",
       " [3, 0, 1, 2, 0],\n",
       " [2, 0, 0, 0, 4],\n",
       " [3, 0, 0, 0, 0],\n",
       " [2, 0, 1, 1, 0],\n",
       " [1, 0, 0, 0, 0],\n",
       " [0, 0, 1, 0, 0],\n",
       " [3, 4, 0, 0, 0],\n",
       " [1, 0, 0, 0, 0],\n",
       " [0, 1, 1, 0, 0],\n",
       " [3, 0, 0, 1, 0],\n",
       " [2, 0, 0, 0, 0],\n",
       " [0, 0, 0, 0, 0],\n",
       " [2, 0, 1, 0, 0],\n",
       " [2, 0, 0, 0, 0],\n",
       " [1, 0, 0, 1, 0],\n",
       " [0, 0, 1, 0, 0],\n",
       " [3, 0, 0, 0, 0],\n",
       " [0, 0, 0, 0, 0],\n",
       " [0, 1, 0, 0, 0],\n",
       " [1, 0, 0, 0, 0],\n",
       " [1, 0, 0, 0, 0],\n",
       " [0, 0, 0, 0, 0],\n",
       " [0, 0, 0, 0, 0],\n",
       " [0, 0, 1, 0, 0],\n",
       " [0, 0, 0, 0, 0],\n",
       " [0, 0, 0, 0, 0],\n",
       " [0, 0, 0, 0, 0],\n",
       " [0, 0, 0, 0, 0],\n",
       " [0, 0, 0, 0, 0],\n",
       " [0, 0, 0, 0, 0],\n",
       " [1, 0, 0, 0, 0],\n",
       " [0, 0, 0, 0, 0],\n",
       " [0, 1, 1, 0, 1],\n",
       " [0, 0, 0, 0, 0],\n",
       " [0, 0, 0, 0, 0],\n",
       " [0, 0, 0, 0, 0],\n",
       " [0, 0, 0, 0, 0],\n",
       " [0, 0, 0, 0, 0],\n",
       " [0, 0, 0, 0, 0],\n",
       " [0, 0, 0, 0, 0],\n",
       " [0, 0, 0, 0, 0],\n",
       " [0, 0, 0, 0, 0],\n",
       " [0, 0, 0, 0, 0],\n",
       " [0, 0, 0, 0, 0],\n",
       " [0, 0, 0, 0, 0],\n",
       " [0, 0, 0, 0, 0],\n",
       " [0, 0, 0, 0, 0],\n",
       " [0, 0, 0, 0, 0],\n",
       " [0, 0, 0, 0, 0]]"
      ]
     },
     "execution_count": 17,
     "metadata": {},
     "output_type": "execute_result"
    }
   ],
   "source": [
    "lefts_sums"
   ]
  },
  {
   "cell_type": "code",
   "execution_count": 18,
   "id": "45a25adc-6eaf-4577-8a16-ee6fcc43cccc",
   "metadata": {},
   "outputs": [
    {
     "data": {
      "text/plain": [
       "[35812, 7778, 7754, 7987, 8045]"
      ]
     },
     "execution_count": 18,
     "metadata": {},
     "output_type": "execute_result"
    }
   ],
   "source": [
    "lefts_sums_total = [sum(x) for x in zip(*lefts_sums)]; lefts_sums_total"
   ]
  },
  {
   "cell_type": "code",
   "execution_count": 19,
   "id": "4ce02a43-edfb-467e-98b6-4599c39f43ad",
   "metadata": {},
   "outputs": [],
   "source": [
    "rights_sums = []"
   ]
  },
  {
   "cell_type": "code",
   "execution_count": 20,
   "id": "b6ccbd7a-e3cb-4589-b202-311a5205e9de",
   "metadata": {},
   "outputs": [],
   "source": [
    "for i in range(len(data.str_out_det)):\n",
    "    a = ast.literal_eval(data.str_out_det[i])\n",
    "    rights = [a[\"right_suc_strategic\"], a[\"right_unsuc_best_try\"]]\n",
    "    rights_sums.append([sum(x) for x in zip(*[[i[k] for k in i] for i in rights])])"
   ]
  },
  {
   "cell_type": "code",
   "execution_count": 21,
   "id": "dc87a89b-cfd5-4e7f-bb65-50955b61c5cf",
   "metadata": {},
   "outputs": [
    {
     "data": {
      "text/plain": [
       "[7846, 7916, 7846, 7679, 35985]"
      ]
     },
     "execution_count": 21,
     "metadata": {},
     "output_type": "execute_result"
    }
   ],
   "source": [
    "rights_sums_total = [sum(x) for x in zip(*rights_sums)]; rights_sums_total"
   ]
  },
  {
   "cell_type": "code",
   "execution_count": 22,
   "id": "f5d4470c-4889-47eb-b951-62995c35c1fe",
   "metadata": {},
   "outputs": [
    {
     "data": {
      "text/plain": [
       "[35812, 7778, 7754, 7987, 8045, 7846, 7916, 7846, 7679, 35985]"
      ]
     },
     "execution_count": 22,
     "metadata": {},
     "output_type": "execute_result"
    }
   ],
   "source": [
    "sums_total = lefts_sums_total + rights_sums_total; sums_total"
   ]
  },
  {
   "cell_type": "code",
   "execution_count": 23,
   "id": "908a49f6-53c1-48ee-b238-215ed52b4f30",
   "metadata": {},
   "outputs": [],
   "source": [
    "prefs = [-9, -7, -5, -3, -1, 1, 3, 5, 7, 9]"
   ]
  },
  {
   "cell_type": "code",
   "execution_count": 24,
   "id": "89333446-1f16-4ab7-9cd6-1e3a6b8fe47f",
   "metadata": {},
   "outputs": [
    {
     "data": {
      "text/plain": [
       "['-9', '-7', '-5', '-3', '-1', '1', '3', '5', '7', '9']"
      ]
     },
     "execution_count": 24,
     "metadata": {},
     "output_type": "execute_result"
    }
   ],
   "source": [
    "list(map(str, prefs))"
   ]
  },
  {
   "cell_type": "code",
   "execution_count": 25,
   "id": "afe46aec-12d8-4ea1-a6c0-9ae50400ea33",
   "metadata": {},
   "outputs": [
    {
     "data": {
      "text/plain": [
       "<BarContainer object of 10 artists>"
      ]
     },
     "execution_count": 25,
     "metadata": {},
     "output_type": "execute_result"
    },
    {
     "data": {
      "image/png": "[encoded data removed]",
      "text/plain": [
       "<Figure size 640x480 with 1 Axes>"
      ]
     },
     "metadata": {},
     "output_type": "display_data"
    }
   ],
   "source": [
    "plt.bar(list(map(str,prefs)), sums_total)"
   ]
  },
  {
   "cell_type": "markdown",
   "id": "fff43fd8-f1cb-4353-a532-26f2bff63eae",
   "metadata": {},
   "source": [
    "# Analysis\n",
    "We see that **median** voters have a **strong** tendency to vote strategically. Also, the tendency quickly decreases with going towards radical preferences."
   ]
  },
  {
   "cell_type": "code",
   "execution_count": 27,
   "id": "1880e50c-cea5-4171-9912-333fc1556413",
   "metadata": {},
   "outputs": [
    {
     "data": {
      "text/plain": [
       "\"{'tie': 121, 'left_suc_strategic': 130, 'left_unsuc_best_try': 1792, 'left_unsuc_sincere': 1765, 'left_unsuc_random': 1795, 'left_winning_sincere': 39934, 'right_suc_strategic': 115, 'right_unsuc_best_try': 1795, 'right_unsuc_sincere': 1864, 'right_unsuc_random': 1876, 'right_winning_sincere': 38044}\""
      ]
     },
     "execution_count": 27,
     "metadata": {},
     "output_type": "execute_result"
    }
   ],
   "source": [
    "data.outcomes[10]"
   ]
  },
  {
   "cell_type": "code",
   "execution_count": 28,
   "id": "30b15c1e-dfa5-4f17-bf2d-6023d7f18c82",
   "metadata": {},
   "outputs": [],
   "source": [
    "data['outcomes'] = data['outcomes'].apply(ast.literal_eval)"
   ]
  },
  {
   "cell_type": "code",
   "execution_count": 29,
   "id": "676d188f-a9f6-423a-aa21-e62188cdf539",
   "metadata": {},
   "outputs": [],
   "source": [
    "from matplotlib.figure import Figure"
   ]
  },
  {
   "cell_type": "code",
   "execution_count": 30,
   "id": "47f683d4-b347-4ec0-88ef-55a6d7b26a5e",
   "metadata": {},
   "outputs": [
    {
     "data": {
      "image/png": "[encoded data removed]",
      "text/plain": [
       "<Figure size 640x480 with 1 Axes>"
      ]
     },
     "execution_count": 30,
     "metadata": {},
     "output_type": "execute_result"
    }
   ],
   "source": [
    "fig = Figure()\n",
    "ax = fig.subplots()\n",
    "tie = [gen[\"tie\"] for gen in data.outcomes]\n",
    "left_winning_sincere = [gen[\"left_winning_sincere\"] for gen in data.outcomes]\n",
    "left_unsuc_sincere = [gen[\"left_unsuc_sincere\"] for gen in data.outcomes]\n",
    "right_winning_sincere = [gen[\"right_winning_sincere\"] for gen in data.outcomes]\n",
    "right_unsuc_sincere = [gen[\"right_unsuc_sincere\"] for gen in data.outcomes]\n",
    "sincere_list = [tie, left_winning_sincere, left_unsuc_sincere,\n",
    "                right_winning_sincere, right_unsuc_sincere]\n",
    "\n",
    "left_suc_strategic = [gen[\"left_suc_strategic\"] for gen in data.outcomes]\n",
    "left_unsuc_best_try = [gen[\"left_unsuc_best_try\"] for gen in data.outcomes]\n",
    "right_suc_strategic = [gen[\"right_suc_strategic\"] for gen in data.outcomes]\n",
    "right_unsuc_best_try = [gen[\"right_unsuc_best_try\"] for gen in data.outcomes]\n",
    "strategic_list = [left_suc_strategic, left_unsuc_best_try,\n",
    "                  right_suc_strategic, right_unsuc_best_try]\n",
    "\n",
    "sincere = [sum(i) for i in zip(*sincere_list)]\n",
    "strategic = [sum(i) for i in zip(*strategic_list)]\n",
    "\n",
    "ax.plot(sincere, label=\"Sincere votes\")\n",
    "ax.plot(strategic, label=\"Strategic votes\")\n",
    "ax.set_title(\"Evolution of Voter Behaviour (Summary)\")\n",
    "ax.legend()\n",
    "fig"
   ]
  },
  {
   "cell_type": "code",
   "execution_count": 31,
   "id": "92256763-cd04-498f-8ae3-d0915806f1f0",
   "metadata": {},
   "outputs": [],
   "source": [
    "totals = data['outcomes'].apply(pd.Series).sum()"
   ]
  },
  {
   "cell_type": "code",
   "execution_count": 32,
   "id": "18406d56-475e-406c-9f99-bda8296cb964",
   "metadata": {},
   "outputs": [
    {
     "name": "stdout",
     "output_type": "stream",
     "text": [
      "             Oy Çeşitleri    Miktar\n",
      "0                     tie     21057\n",
      "1      left_suc_strategic      7912\n",
      "2     left_unsuc_best_try     59464\n",
      "3      left_unsuc_sincere     59559\n",
      "4       left_unsuc_random     60071\n",
      "5    left_winning_sincere  13252460\n",
      "6     right_suc_strategic      7463\n",
      "7    right_unsuc_best_try     59809\n",
      "8     right_unsuc_sincere     59728\n",
      "9      right_unsuc_random     59916\n",
      "10  right_winning_sincere  13102908\n"
     ]
    }
   ],
   "source": [
    "totals_df = pd.DataFrame(list(totals.items()), columns=['Oy Çeşitleri', 'Miktar'])\n",
    "\n",
    "# DataFrame'in ilk birkaç satırını kontrol etme\n",
    "print(totals_df)"
   ]
  },
  {
   "cell_type": "markdown",
   "id": "47dce2de-c5b3-411a-85fd-2853509f381c",
   "metadata": {},
   "source": [
    "### VOTING TYPES"
   ]
  },
  {
   "cell_type": "code",
   "execution_count": 34,
   "id": "603a9354-1c87-40ff-8352-9d5d7f6bbcde",
   "metadata": {},
   "outputs": [
    {
     "data": {
      "image/png": "[encoded data removed]",
      "text/plain": [
       "<Figure size 1000x600 with 1 Axes>"
      ]
     },
     "metadata": {},
     "output_type": "display_data"
    }
   ],
   "source": [
    "import matplotlib.pyplot as plt\n",
    "\n",
    "# Bar plot (çubuk grafiği) çizimi\n",
    "plt.figure(figsize=(10, 6))\n",
    "plt.bar(totals_df['Oy Çeşitleri'], totals_df['Miktar'], color='cornflowerblue')\n",
    "\n",
    "# Başlık ve etiketler\n",
    "plt.title('Distribution of Outcomes', fontsize=14)\n",
    "plt.xlabel('Outcomes', fontsize=12)\n",
    "plt.ylabel('Quantity', fontsize=12)\n",
    "\n",
    "# Döndürme (eğer etiketler üst üste geliyorsa)\n",
    "plt.xticks(rotation=90)\n",
    "\n",
    "# Grafik gösterimi\n",
    "plt.show()"
   ]
  },
  {
   "cell_type": "code",
   "execution_count": 35,
   "id": "71f62d59-117c-44c6-8253-5aa293ef6ecf",
   "metadata": {},
   "outputs": [
    {
     "data": {
      "text/html": [
       "<div>\n",
       "<style scoped>\n",
       "    .dataframe tbody tr th:only-of-type {\n",
       "        vertical-align: middle;\n",
       "    }\n",
       "\n",
       "    .dataframe tbody tr th {\n",
       "        vertical-align: top;\n",
       "    }\n",
       "\n",
       "    .dataframe thead th {\n",
       "        text-align: right;\n",
       "    }\n",
       "</style>\n",
       "<table border=\"1\" class=\"dataframe\">\n",
       "  <thead>\n",
       "    <tr style=\"text-align: right;\">\n",
       "      <th></th>\n",
       "      <th>Unnamed: 0</th>\n",
       "      <th>E</th>\n",
       "      <th>D</th>\n",
       "      <th>C</th>\n",
       "      <th>B</th>\n",
       "      <th>A</th>\n",
       "      <th>O</th>\n",
       "      <th>A'</th>\n",
       "      <th>B'</th>\n",
       "      <th>C'</th>\n",
       "      <th>D'</th>\n",
       "      <th>E'</th>\n",
       "      <th>outcomes</th>\n",
       "      <th>str_out_det</th>\n",
       "    </tr>\n",
       "  </thead>\n",
       "  <tbody>\n",
       "    <tr>\n",
       "      <th>0</th>\n",
       "      <td>0</td>\n",
       "      <td>8206</td>\n",
       "      <td>8289</td>\n",
       "      <td>8250</td>\n",
       "      <td>8072</td>\n",
       "      <td>8188</td>\n",
       "      <td>8178</td>\n",
       "      <td>8136</td>\n",
       "      <td>8141</td>\n",
       "      <td>8167</td>\n",
       "      <td>8290</td>\n",
       "      <td>8083</td>\n",
       "      <td>{'tie': 0, 'left_suc_strategic': 0, 'left_unsu...</td>\n",
       "      <td>{'left_suc_strategic': {-9: 0, -7: 0, -5: 0, -...</td>\n",
       "    </tr>\n",
       "    <tr>\n",
       "      <th>1</th>\n",
       "      <td>1</td>\n",
       "      <td>13272</td>\n",
       "      <td>7547</td>\n",
       "      <td>7153</td>\n",
       "      <td>6863</td>\n",
       "      <td>6385</td>\n",
       "      <td>8178</td>\n",
       "      <td>6401</td>\n",
       "      <td>6547</td>\n",
       "      <td>7015</td>\n",
       "      <td>7315</td>\n",
       "      <td>13324</td>\n",
       "      <td>{'tie': 826, 'left_suc_strategic': 1463, 'left...</td>\n",
       "      <td>{'left_suc_strategic': {-9: 0, -7: 165, -5: 27...</td>\n",
       "    </tr>\n",
       "    <tr>\n",
       "      <th>2</th>\n",
       "      <td>2</td>\n",
       "      <td>15053</td>\n",
       "      <td>7209</td>\n",
       "      <td>6718</td>\n",
       "      <td>6447</td>\n",
       "      <td>5926</td>\n",
       "      <td>8178</td>\n",
       "      <td>5691</td>\n",
       "      <td>5981</td>\n",
       "      <td>6648</td>\n",
       "      <td>7007</td>\n",
       "      <td>15142</td>\n",
       "      <td>{'tie': 664, 'left_suc_strategic': 959, 'left_...</td>\n",
       "      <td>{'left_suc_strategic': {-9: 0, -7: 103, -5: 22...</td>\n",
       "    </tr>\n",
       "    <tr>\n",
       "      <th>3</th>\n",
       "      <td>3</td>\n",
       "      <td>15501</td>\n",
       "      <td>7161</td>\n",
       "      <td>6652</td>\n",
       "      <td>6349</td>\n",
       "      <td>5738</td>\n",
       "      <td>8178</td>\n",
       "      <td>5545</td>\n",
       "      <td>5835</td>\n",
       "      <td>6524</td>\n",
       "      <td>6861</td>\n",
       "      <td>15656</td>\n",
       "      <td>{'tie': 449, 'left_suc_strategic': 602, 'left_...</td>\n",
       "      <td>{'left_suc_strategic': {-9: 0, -7: 73, -5: 127...</td>\n",
       "    </tr>\n",
       "    <tr>\n",
       "      <th>4</th>\n",
       "      <td>4</td>\n",
       "      <td>15618</td>\n",
       "      <td>7174</td>\n",
       "      <td>6591</td>\n",
       "      <td>6364</td>\n",
       "      <td>5684</td>\n",
       "      <td>8178</td>\n",
       "      <td>5503</td>\n",
       "      <td>5909</td>\n",
       "      <td>6512</td>\n",
       "      <td>6849</td>\n",
       "      <td>15618</td>\n",
       "      <td>{'tie': 368, 'left_suc_strategic': 375, 'left_...</td>\n",
       "      <td>{'left_suc_strategic': {-9: 0, -7: 38, -5: 87,...</td>\n",
       "    </tr>\n",
       "    <tr>\n",
       "      <th>...</th>\n",
       "      <td>...</td>\n",
       "      <td>...</td>\n",
       "      <td>...</td>\n",
       "      <td>...</td>\n",
       "      <td>...</td>\n",
       "      <td>...</td>\n",
       "      <td>...</td>\n",
       "      <td>...</td>\n",
       "      <td>...</td>\n",
       "      <td>...</td>\n",
       "      <td>...</td>\n",
       "      <td>...</td>\n",
       "      <td>...</td>\n",
       "      <td>...</td>\n",
       "    </tr>\n",
       "    <tr>\n",
       "      <th>295</th>\n",
       "      <td>295</td>\n",
       "      <td>10948</td>\n",
       "      <td>8098</td>\n",
       "      <td>7610</td>\n",
       "      <td>7359</td>\n",
       "      <td>6714</td>\n",
       "      <td>8178</td>\n",
       "      <td>6881</td>\n",
       "      <td>7244</td>\n",
       "      <td>7792</td>\n",
       "      <td>8138</td>\n",
       "      <td>11038</td>\n",
       "      <td>{'tie': 55, 'left_suc_strategic': 0, 'left_uns...</td>\n",
       "      <td>{'left_suc_strategic': {-9: 0, -7: 0, -5: 0, -...</td>\n",
       "    </tr>\n",
       "    <tr>\n",
       "      <th>296</th>\n",
       "      <td>296</td>\n",
       "      <td>10948</td>\n",
       "      <td>8098</td>\n",
       "      <td>7610</td>\n",
       "      <td>7359</td>\n",
       "      <td>6714</td>\n",
       "      <td>8178</td>\n",
       "      <td>6881</td>\n",
       "      <td>7244</td>\n",
       "      <td>7792</td>\n",
       "      <td>8138</td>\n",
       "      <td>11038</td>\n",
       "      <td>{'tie': 55, 'left_suc_strategic': 0, 'left_uns...</td>\n",
       "      <td>{'left_suc_strategic': {-9: 0, -7: 0, -5: 0, -...</td>\n",
       "    </tr>\n",
       "    <tr>\n",
       "      <th>297</th>\n",
       "      <td>297</td>\n",
       "      <td>10948</td>\n",
       "      <td>8098</td>\n",
       "      <td>7610</td>\n",
       "      <td>7359</td>\n",
       "      <td>6714</td>\n",
       "      <td>8178</td>\n",
       "      <td>6881</td>\n",
       "      <td>7244</td>\n",
       "      <td>7792</td>\n",
       "      <td>8138</td>\n",
       "      <td>11038</td>\n",
       "      <td>{'tie': 55, 'left_suc_strategic': 0, 'left_uns...</td>\n",
       "      <td>{'left_suc_strategic': {-9: 0, -7: 0, -5: 0, -...</td>\n",
       "    </tr>\n",
       "    <tr>\n",
       "      <th>298</th>\n",
       "      <td>298</td>\n",
       "      <td>10948</td>\n",
       "      <td>8098</td>\n",
       "      <td>7610</td>\n",
       "      <td>7359</td>\n",
       "      <td>6714</td>\n",
       "      <td>8178</td>\n",
       "      <td>6881</td>\n",
       "      <td>7244</td>\n",
       "      <td>7792</td>\n",
       "      <td>8138</td>\n",
       "      <td>11038</td>\n",
       "      <td>{'tie': 55, 'left_suc_strategic': 0, 'left_uns...</td>\n",
       "      <td>{'left_suc_strategic': {-9: 0, -7: 0, -5: 0, -...</td>\n",
       "    </tr>\n",
       "    <tr>\n",
       "      <th>299</th>\n",
       "      <td>299</td>\n",
       "      <td>10948</td>\n",
       "      <td>8098</td>\n",
       "      <td>7610</td>\n",
       "      <td>7359</td>\n",
       "      <td>6714</td>\n",
       "      <td>8178</td>\n",
       "      <td>6881</td>\n",
       "      <td>7244</td>\n",
       "      <td>7792</td>\n",
       "      <td>8138</td>\n",
       "      <td>11038</td>\n",
       "      <td>{'tie': 55, 'left_suc_strategic': 0, 'left_uns...</td>\n",
       "      <td>{'left_suc_strategic': {-9: 0, -7: 0, -5: 0, -...</td>\n",
       "    </tr>\n",
       "  </tbody>\n",
       "</table>\n",
       "<p>300 rows × 14 columns</p>\n",
       "</div>"
      ],
      "text/plain": [
       "     Unnamed: 0      E     D     C     B     A     O    A'    B'    C'    D'  \\\n",
       "0             0   8206  8289  8250  8072  8188  8178  8136  8141  8167  8290   \n",
       "1             1  13272  7547  7153  6863  6385  8178  6401  6547  7015  7315   \n",
       "2             2  15053  7209  6718  6447  5926  8178  5691  5981  6648  7007   \n",
       "3             3  15501  7161  6652  6349  5738  8178  5545  5835  6524  6861   \n",
       "4             4  15618  7174  6591  6364  5684  8178  5503  5909  6512  6849   \n",
       "..          ...    ...   ...   ...   ...   ...   ...   ...   ...   ...   ...   \n",
       "295         295  10948  8098  7610  7359  6714  8178  6881  7244  7792  8138   \n",
       "296         296  10948  8098  7610  7359  6714  8178  6881  7244  7792  8138   \n",
       "297         297  10948  8098  7610  7359  6714  8178  6881  7244  7792  8138   \n",
       "298         298  10948  8098  7610  7359  6714  8178  6881  7244  7792  8138   \n",
       "299         299  10948  8098  7610  7359  6714  8178  6881  7244  7792  8138   \n",
       "\n",
       "        E'                                           outcomes  \\\n",
       "0     8083  {'tie': 0, 'left_suc_strategic': 0, 'left_unsu...   \n",
       "1    13324  {'tie': 826, 'left_suc_strategic': 1463, 'left...   \n",
       "2    15142  {'tie': 664, 'left_suc_strategic': 959, 'left_...   \n",
       "3    15656  {'tie': 449, 'left_suc_strategic': 602, 'left_...   \n",
       "4    15618  {'tie': 368, 'left_suc_strategic': 375, 'left_...   \n",
       "..     ...                                                ...   \n",
       "295  11038  {'tie': 55, 'left_suc_strategic': 0, 'left_uns...   \n",
       "296  11038  {'tie': 55, 'left_suc_strategic': 0, 'left_uns...   \n",
       "297  11038  {'tie': 55, 'left_suc_strategic': 0, 'left_uns...   \n",
       "298  11038  {'tie': 55, 'left_suc_strategic': 0, 'left_uns...   \n",
       "299  11038  {'tie': 55, 'left_suc_strategic': 0, 'left_uns...   \n",
       "\n",
       "                                           str_out_det  \n",
       "0    {'left_suc_strategic': {-9: 0, -7: 0, -5: 0, -...  \n",
       "1    {'left_suc_strategic': {-9: 0, -7: 165, -5: 27...  \n",
       "2    {'left_suc_strategic': {-9: 0, -7: 103, -5: 22...  \n",
       "3    {'left_suc_strategic': {-9: 0, -7: 73, -5: 127...  \n",
       "4    {'left_suc_strategic': {-9: 0, -7: 38, -5: 87,...  \n",
       "..                                                 ...  \n",
       "295  {'left_suc_strategic': {-9: 0, -7: 0, -5: 0, -...  \n",
       "296  {'left_suc_strategic': {-9: 0, -7: 0, -5: 0, -...  \n",
       "297  {'left_suc_strategic': {-9: 0, -7: 0, -5: 0, -...  \n",
       "298  {'left_suc_strategic': {-9: 0, -7: 0, -5: 0, -...  \n",
       "299  {'left_suc_strategic': {-9: 0, -7: 0, -5: 0, -...  \n",
       "\n",
       "[300 rows x 14 columns]"
      ]
     },
     "execution_count": 35,
     "metadata": {},
     "output_type": "execute_result"
    }
   ],
   "source": [
    "data"
   ]
  },
  {
   "cell_type": "markdown",
   "id": "e035e927-cc1a-4d0a-a68f-193a596be65e",
   "metadata": {},
   "source": [
    "# Distribution of voters"
   ]
  },
  {
   "cell_type": "markdown",
   "id": "5e751d46-fed4-4294-9228-f6474cf1407f",
   "metadata": {},
   "source": [
    "Let's plot the inital distribution."
   ]
  },
  {
   "cell_type": "code",
   "execution_count": 38,
   "id": "b1cf6d2b-4280-4c0a-b0b1-63320a70f01e",
   "metadata": {},
   "outputs": [],
   "source": [
    "gen1 = data.iloc[:, 1: 12].iloc[0]"
   ]
  },
  {
   "cell_type": "code",
   "execution_count": 39,
   "id": "ff33704a-7eb2-48e8-9107-2e40c1c7ec7f",
   "metadata": {},
   "outputs": [
    {
     "data": {
      "image/png": "[encoded data removed]",
      "text/plain": [
       "<Figure size 640x480 with 1 Axes>"
      ]
     },
     "execution_count": 39,
     "metadata": {},
     "output_type": "execute_result"
    },
    {
     "data": {
      "text/plain": [
       "<Figure size 640x480 with 0 Axes>"
      ]
     },
     "metadata": {},
     "output_type": "display_data"
    }
   ],
   "source": [
    "fig = Figure()\n",
    "ax = fig.subplots()\n",
    "colors = [\"#fabbbb\", \"#f78f8f\", \"#f75c5c\", \"#f52a2a\", \"#ff0000\", \"#000000\",\n",
    "          \"#023cf7\", \"#2a5af7\", \"#4f77f7\", \"#7997f7\", \"#93abfa\"]\n",
    "ax.pie(gen1, labels=gen1.index, colors=colors, autopct='%1.1f%%')\n",
    "plt.clf()\n",
    "fig"
   ]
  },
  {
   "cell_type": "markdown",
   "id": "46d7e9bd-c93b-48b2-8541-08dff621e077",
   "metadata": {},
   "source": [
    "Let's plot a few more."
   ]
  },
  {
   "cell_type": "code",
   "execution_count": 41,
   "id": "de194a41-52e3-40c6-a780-886bbd43ead0",
   "metadata": {},
   "outputs": [],
   "source": [
    "gen2 = data.iloc[:, 1: 12].iloc[1]"
   ]
  },
  {
   "cell_type": "code",
   "execution_count": 42,
   "id": "53f7f393-41e7-4867-8739-ebb90fc5338e",
   "metadata": {},
   "outputs": [
    {
     "data": {
      "image/png": "[encoded data removed]",
      "text/plain": [
       "<Figure size 640x480 with 1 Axes>"
      ]
     },
     "execution_count": 42,
     "metadata": {},
     "output_type": "execute_result"
    },
    {
     "data": {
      "text/plain": [
       "<Figure size 640x480 with 0 Axes>"
      ]
     },
     "metadata": {},
     "output_type": "display_data"
    }
   ],
   "source": [
    "fig = Figure()\n",
    "ax = fig.subplots()\n",
    "colors = [\"#fabbbb\", \"#f78f8f\", \"#f75c5c\", \"#f52a2a\", \"#ff0000\", \"#000000\",\n",
    "          \"#023cf7\", \"#2a5af7\", \"#4f77f7\", \"#7997f7\", \"#93abfa\"]\n",
    "ax.pie(gen2, labels=gen2.index, colors=colors, autopct='%1.1f%%')\n",
    "plt.clf()\n",
    "fig"
   ]
  },
  {
   "cell_type": "code",
   "execution_count": 43,
   "id": "6bbc0298-194f-41b0-8dcf-928f005418da",
   "metadata": {},
   "outputs": [],
   "source": [
    "gen300 = data.iloc[:, 1: 12].iloc[299]"
   ]
  },
  {
   "cell_type": "code",
   "execution_count": 44,
   "id": "116e70c4-eafe-495e-a2ef-a517b25ba1ed",
   "metadata": {},
   "outputs": [
    {
     "data": {
      "image/png": "[encoded data removed]",
      "text/plain": [
       "<Figure size 640x480 with 1 Axes>"
      ]
     },
     "execution_count": 44,
     "metadata": {},
     "output_type": "execute_result"
    },
    {
     "data": {
      "text/plain": [
       "<Figure size 640x480 with 0 Axes>"
      ]
     },
     "metadata": {},
     "output_type": "display_data"
    }
   ],
   "source": [
    "fig = Figure()\n",
    "ax = fig.subplots()\n",
    "colors = [\"#fabbbb\", \"#f78f8f\", \"#f75c5c\", \"#f52a2a\", \"#ff0000\", \"#000000\",\n",
    "          \"#023cf7\", \"#2a5af7\", \"#4f77f7\", \"#7997f7\", \"#93abfa\"]\n",
    "ax.pie(gen300, labels=gen300.index, colors=colors, autopct='%1.1f%%')\n",
    "plt.clf()\n",
    "fig"
   ]
  }
 ],
 "metadata": {
  "kernelspec": {
   "display_name": "Python 3 (ipykernel)",
   "language": "python",
   "name": "python3"
  },
  "language_info": {
   "codemirror_mode": {
    "name": "ipython",
    "version": 3
   },
   "file_extension": ".py",
   "mimetype": "text/x-python",
   "name": "python",
   "nbconvert_exporter": "python",
   "pygments_lexer": "ipython3",
   "version": "3.13.1"
  }
 },
 "nbformat": 4,
 "nbformat_minor": 5
}
